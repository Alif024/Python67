{
 "cells": [
  {
   "cell_type": "code",
   "execution_count": 1,
   "metadata": {},
   "outputs": [
    {
     "name": "stdout",
     "output_type": "stream",
     "text": [
      "3.93\n"
     ]
    },
    {
     "data": {
      "text/plain": [
       "'3.93'"
      ]
     },
     "execution_count": 1,
     "metadata": {},
     "output_type": "execute_result"
    }
   ],
   "source": [
    "def Gpacal(score):\n",
    "    pre_gpa = 0\n",
    "    sum_credits = 0\n",
    "    subject = []\n",
    "    Credits = {'Dismath':3,'Intro':3,'IntroLab':3,'Compro':3,\n",
    "               'ComproLab':1,'SA':3,'Eng':3,'Human':3}\n",
    "    for i in score.keys():\n",
    "        subject.append(i)\n",
    "    for k in subject:\n",
    "        sum_credits += Credits[k]\n",
    "        if score[k] >= 80:\n",
    "            pre_gpa += 4*Credits[k]\n",
    "        elif score[k] >= 75:\n",
    "            pre_gpa += 3.5*Credits[k]\n",
    "        elif score[k] >= 70:\n",
    "            pre_gpa += 3*Credits[k]\n",
    "        elif score[k] >= 65:\n",
    "            pre_gpa += 2.5*Credits[k]\n",
    "        elif score[k] >= 60:\n",
    "            pre_gpa += 2*Credits[k]\n",
    "        elif score[k] >= 55:\n",
    "            pre_gpa += 1.5*Credits[k]\n",
    "        elif score[k] >= 50:\n",
    "            pre_gpa += 1*Credits[k]\n",
    "        else:\n",
    "            pre_gpa += 0*Credits[k]\n",
    "    gpa = pre_gpa/sum_credits\n",
    "    print(format(gpa,'.2f'))\n",
    "    return format(gpa,'.2f')\n",
    "\n",
    "\n",
    "Gpacal({'Dismath':82,'Intro':90,'IntroLab':93,'Compro':90,\n",
    "        'ComproLab':94,'SA':83,'Eng':80,'Human':79})"
   ]
  },
  {
   "cell_type": "code",
   "execution_count": 2,
   "metadata": {},
   "outputs": [
    {
     "name": "stdout",
     "output_type": "stream",
     "text": [
      "3\n",
      "0\n",
      "7\n",
      "24\n"
     ]
    },
    {
     "data": {
      "text/plain": [
       "24"
      ]
     },
     "execution_count": 2,
     "metadata": {},
     "output_type": "execute_result"
    }
   ],
   "source": [
    "def co_val(set1,set2):\n",
    "    inter_set = set1.intersection(set2)\n",
    "    inter_list = list(inter_set)\n",
    "    inter_list.sort()\n",
    "    keep_val = []\n",
    "    if len(inter_list) == 0:\n",
    "        print(0)\n",
    "        return 0\n",
    "    less = inter_list[0]\n",
    "    most = inter_list[len(inter_list)-1]\n",
    "    for i in range(less,most+1):\n",
    "        i = str(i)\n",
    "        res = 0\n",
    "        for digi in i:\n",
    "            digi = int(digi)\n",
    "            res += digi\n",
    "        if res%2 != 0:\n",
    "            keep_val.append(res)\n",
    "    keep_val = tuple(keep_val)\n",
    "    print(sum(keep_val))\n",
    "    return sum(keep_val)\n",
    "\n",
    "co_val({19,22,5,7,8},{1,2,19,22,20})\n",
    "co_val({1,2,3,4},{5,6,7,8})\n",
    "co_val({11,12,16},{13,14,15,16})\n",
    "co_val({11,12,24,16},{13,14,15,16,24})"
   ]
  },
  {
   "cell_type": "code",
   "execution_count": 5,
   "metadata": {},
   "outputs": [
    {
     "name": "stdout",
     "output_type": "stream",
     "text": [
      "4\n",
      "5\n",
      "5\n",
      "['oh', 'rents']\n"
     ]
    }
   ],
   "source": [
    "def cal_words(words):\n",
    "    scabble = {}\n",
    "    r = 0\n",
    "    bestwords = 0\n",
    "    rest_word = []\n",
    "    for i in  [1,3,3,2,1,4,2,4,1,8,5,1,3,1,1,\n",
    "               3,10,1,1,1,1,4,4,8,4,10]:\n",
    "        scabble.update({chr(97+r):i})\n",
    "        r += 1\n",
    "\n",
    "    for w in words:\n",
    "        score = 0\n",
    "        for ch in w:\n",
    "            score += scabble[ch]\n",
    "\n",
    "        print(score)\n",
    "\n",
    "        if score == bestwords:\n",
    "            rest_word.append(w)\n",
    "        elif score > bestwords:\n",
    "            bestwords = score\n",
    "            rest_word.clear()\n",
    "            rest_word.append(w)\n",
    "        elif score < bestwords:\n",
    "            pass\n",
    "    print(rest_word)\n",
    "\n",
    "cal_words(['got','oh','rents'])"
   ]
  },
  {
   "cell_type": "code",
   "execution_count": 4,
   "metadata": {},
   "outputs": [
    {
     "name": "stdout",
     "output_type": "stream",
     "text": [
      "The world is not enough\n"
     ]
    }
   ],
   "source": [
    "#user_string = input('Enter Yourstring')\n",
    "user_string = 'TheWorldIsNotEnough'\n",
    "result = ''\n",
    "result = result + user_string[0]\n",
    "for i in range(1,len(user_string)):\n",
    "    ch  = user_string[i]  \n",
    "    if ch.isupper():\n",
    "        ch = ch.lower()\n",
    "        result = result + ' '\n",
    "    result = result + ch\n",
    "print(result)"
   ]
  },
  {
   "cell_type": "code",
   "execution_count": 6,
   "metadata": {},
   "outputs": [
    {
     "name": "stdout",
     "output_type": "stream",
     "text": [
      "[[0, 1, 2], [3, 4, 5], [6, 7, 8]]\n"
     ]
    }
   ],
   "source": [
    "datalist = [[3,8,1],[0,4,7],[2,6,5]]\n",
    "count = 0 \n",
    "numlist = 0\n",
    "data1 = []\n",
    "resultlist = [[],[],[]]\n",
    "#resultlist = [[0,0,0],[0,0,0],[0,0,0]] \n",
    "for i in range(3):\n",
    "    for j in range(3):\n",
    "        data1.append(datalist[i][j])\n",
    "data1.sort()\n",
    "for k in data1:\n",
    "    if count > 2:\n",
    "        numlist = numlist + 1\n",
    "        count = 0\n",
    "    resultlist[numlist].append(k)\n",
    "    #resultlist[numlist][count] = k จำการใช้สลับกับarrayในc++\n",
    "    count = count+1\n",
    "print(resultlist)"
   ]
  },
  {
   "cell_type": "code",
   "execution_count": 8,
   "metadata": {},
   "outputs": [
    {
     "name": "stdout",
     "output_type": "stream",
     "text": [
      "1-100\n",
      "1\t2\t3\t4\t5\t6\t7\t8\t9\t10\t\n",
      "11\t12\t13\t14\t15\t16\t17\t18\t19\t20\t\n",
      "21\t22\t23\t24\t25\t26\t27\t28\t29\t30\t\n",
      "31\t32\t33\t34\t35\t36\t37\t38\t39\t40\t\n",
      "41\t42\t43\t44\t45\t46\t47\t48\t49\t50\t\n",
      "51\t52\t53\t54\t55\t56\t57\t58\t59\t60\t\n",
      "61\t62\t63\t64\t65\t66\t67\t68\t69\t70\t\n",
      "71\t72\t73\t74\t75\t76\t77\t78\t79\t80\t\n",
      "81\t82\t83\t84\t85\t86\t87\t88\t89\t90\t\n",
      "91\t92\t93\t94\t95\t96\t97\t98\t99\t100\t\n"
     ]
    }
   ],
   "source": [
    "import math\n",
    "print('1-100')\n",
    "columns = int(input('How many columns? :'))\n",
    "row = math.ceil(100/columns)\n",
    "n=1\n",
    "for r in range(row):\n",
    "    for c in range(columns):\n",
    "        print(n,end=\"\\t\")\n",
    "        n = n+1\n",
    "        if n > 100:\n",
    "            break\n",
    "    print('')"
   ]
  },
  {
   "cell_type": "code",
   "execution_count": 9,
   "metadata": {},
   "outputs": [
    {
     "name": "stdout",
     "output_type": "stream",
     "text": [
      "================================\n",
      "M    T    W    T    F    S    S\n",
      "================================\n",
      "1    2    3    4    5    6    7    \n",
      "8    9    10   11   12   13   14   \n",
      "15   16   17   18   19   20   21   \n",
      "22   23   24   25   26   27   28   \n",
      "29   30   31   \n",
      "================================\n"
     ]
    }
   ],
   "source": [
    "month = [31,28,31,30,31,30,31,31,30,31,30,31]\n",
    "def what_fristday_month(day,M_month):\n",
    "    n=0\n",
    "    sumday =0\n",
    "    for i in month:\n",
    "        if n == M_month-1:\n",
    "            break\n",
    "        n = n+1\n",
    "        sumday = sumday+i\n",
    "    sumday = sumday+day\n",
    "    frist_day_month = (sumday-2)%7\n",
    "    return (frist_day_month)\n",
    "M_month = int(input('What month of 2023: '))\n",
    "frist_day = what_fristday_month(1,M_month)\n",
    "#print(frist_day)\n",
    "print('='*32)\n",
    "print('M    T    W    T    F    S    S')\n",
    "print('='*32)\n",
    "for i in range(frist_day):\n",
    "    print(' ',end='    ')\n",
    "for day in range(1,month[M_month-1]+1):\n",
    "    print(f'{day:<2}',end='   ')\n",
    "    if (frist_day+day)%7 == 0:\n",
    "        print()\n",
    "print()\n",
    "print('='*32)"
   ]
  },
  {
   "cell_type": "code",
   "execution_count": 11,
   "metadata": {},
   "outputs": [
    {
     "name": "stdout",
     "output_type": "stream",
     "text": [
      "====================\n",
      "Su Mo Tu We Th Fr Sa\n",
      "====================\n",
      "          1  2  3  4 \n",
      " 5  6  7  8  9 10 11 \n",
      "12 13 14 15 16 17 18 \n",
      "19 20 21 22 23 24 25 \n",
      "26 27 28 29 30 31 \n",
      "====================\n"
     ]
    }
   ],
   "source": [
    "m = [31, 29, 31, 30, 31, 30, 31, 31, 30, 31, 30, 31]\n",
    "def first_day(num_m, m):\n",
    "    total_day = 0\n",
    "    count_m = 0\n",
    "    for num_day in m:\n",
    "        if num_m - 1 == count_m:\n",
    "            break\n",
    "        total_day += num_day\n",
    "        count_m += 1\n",
    "    return total_day % 7\n",
    "num_m = int(input(\"What month of 2024: \"))\n",
    "start = first_day(num_m, m) + 1\n",
    "print(\"=\" * 20)\n",
    "print(\"Su Mo Tu We Th Fr Sa\")\n",
    "print(\"=\" * 20)\n",
    "for date in range(1, (m[num_m - 1] + start) + 1):\n",
    "    if date - start <= 0:\n",
    "        print(\"  \", end=\" \")\n",
    "    else:\n",
    "        print(f\"{date-start:>2}\", end=\" \")\n",
    "    if date % 7 == 0:\n",
    "        print()\n",
    "print()\n",
    "print(\"=\" * 20)"
   ]
  },
  {
   "cell_type": "code",
   "execution_count": 13,
   "metadata": {},
   "outputs": [
    {
     "name": "stdout",
     "output_type": "stream",
     "text": [
      "['Elderberry', 'Cherry', 'Apple']\n",
      "['Python', 'World', 'Hello']\n",
      "['Learnning', 'Deep', 'Ai']\n"
     ]
    }
   ],
   "source": [
    "def del_text(text):\n",
    "    text_list = []\n",
    "    #print(text)\n",
    "    for texts in text:\n",
    "        if texts.isalpha() == False:\n",
    "            text.remove(texts)\n",
    "            continue\n",
    "        #print(texts)\n",
    "    for text_sort in text:\n",
    "        text_list.append(text_sort.capitalize())\n",
    "    #print(text_list) \n",
    "    text_list.sort(key=len)\n",
    "    text_list.reverse()\n",
    "    return(text_list) \n",
    "    \n",
    "        \n",
    "\n",
    "print(del_text(['apple','3Banana','Cherry',\n",
    "                'd4ragonfruit','elderberry']))\n",
    "print(del_text(['123','Hello','world','Python',\n",
    "                '99Programming']))\n",
    "print(del_text(['Ai','65Machine','Learnning','Deep',\n",
    "                'Learnning101']))"
   ]
  }
 ],
 "metadata": {
  "kernelspec": {
   "display_name": "Python310",
   "language": "python",
   "name": "python3"
  },
  "language_info": {
   "codemirror_mode": {
    "name": "ipython",
    "version": 3
   },
   "file_extension": ".py",
   "mimetype": "text/x-python",
   "name": "python",
   "nbconvert_exporter": "python",
   "pygments_lexer": "ipython3",
   "version": "3.10.14"
  }
 },
 "nbformat": 4,
 "nbformat_minor": 2
}
