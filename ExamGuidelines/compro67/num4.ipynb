{
 "cells": [
  {
   "cell_type": "code",
   "execution_count": 1,
   "metadata": {},
   "outputs": [
    {
     "name": "stdout",
     "output_type": "stream",
     "text": [
      "{'cust1': {'electronics': 2}, 'cust2': {'groceries': 2}, 'cust3': {}, 'most_frequent': {'electronics': 'laptop', 'groceries': 'apple'}}\n"
     ]
    }
   ],
   "source": [
    "purchases = [\n",
    "    (\"cust1\", \"electronics\", \"laptop\"),\n",
    "    (\"cust2\", \"groceries\", \"apple\"),\n",
    "    (\"cust1\", \"electronics\", \"laptop\"),\n",
    "    (\"cust1\", \"electronics\", \"mouse\"),\n",
    "    (\"cust2\", \"groceries\", \"apple\"),\n",
    "    (\"cust2\", \"groceries\", \"banana\"),\n",
    "    (\"cust3\", \"groceries\", \"banana\"),\n",
    "    (\"cust3\", \"groceries\", \"apple\"),\n",
    "    (\"cust3\", \"electronics\", \"camera\"),\n",
    "]\n",
    "\n",
    "def analyze_purchases(purchases: list) -> dict:\n",
    "    dict_purchases = {}\n",
    "    all_buy_product = []\n",
    "    for cust, category, item in purchases:\n",
    "        if cust not in dict_purchases:\n",
    "            dict_purchases[cust] = {}\n",
    "        if category not in dict_purchases[cust]:\n",
    "            dict_purchases[cust][category] = {}\n",
    "        if item not in dict_purchases[cust][category]:\n",
    "            dict_purchases[cust][category][item] = 1\n",
    "        else:\n",
    "            dict_purchases[cust][category][item] += 1\n",
    "        all_buy_product.append((category, item))\n",
    "    top_custs_category = {}\n",
    "    for cust in dict_purchases:\n",
    "        top_cat_cust = {}\n",
    "        for category in dict_purchases[cust]:\n",
    "            cat_count_list = []\n",
    "            for item in dict_purchases[cust][category]:\n",
    "                cat_count_list.append(dict_purchases[cust][category][item])\n",
    "            max_cat = max(cat_count_list)\n",
    "            list_top_cat_cust = []\n",
    "            for item in dict_purchases[cust][category]:\n",
    "                if dict_purchases[cust][category][item] == max_cat:\n",
    "                    list_top_cat_cust.append(item)\n",
    "            if len(list_top_cat_cust) == 1:\n",
    "                top_cat_cust[category] = max_cat\n",
    "            else:\n",
    "                top_cat_cust[category] = {}\n",
    "        if len(top_cat_cust) == 1:\n",
    "            top_custs_category[cust] = top_cat_cust\n",
    "        else:\n",
    "            top_custs_category[cust] = {}\n",
    "    dict_all_buy_product = {}\n",
    "    for category, product in all_buy_product:\n",
    "        if category not in dict_all_buy_product:\n",
    "            dict_all_buy_product[category] = {}\n",
    "        if product not in dict_all_buy_product[category]:\n",
    "            dict_all_buy_product[category][product] = 1\n",
    "        else:\n",
    "            dict_all_buy_product[category][product] += 1\n",
    "    dict_most_frequency = {}\n",
    "    for category, values in dict_all_buy_product.items():\n",
    "        frequency_rate = max([rate for rate in values.values()])\n",
    "        for product, frequency in values.items():\n",
    "            if frequency == frequency_rate:\n",
    "                dict_most_frequency.update({category: product})\n",
    "    top_custs_category[\"most_frequent\"] = dict_most_frequency\n",
    "    return top_custs_category\n",
    "\n",
    "\n",
    "if __name__ == \"__main__\":\n",
    "    print(analyze_purchases(purchases))"
   ]
  }
 ],
 "metadata": {
  "kernelspec": {
   "display_name": "Python310",
   "language": "python",
   "name": "python3"
  },
  "language_info": {
   "codemirror_mode": {
    "name": "ipython",
    "version": 3
   },
   "file_extension": ".py",
   "mimetype": "text/x-python",
   "name": "python",
   "nbconvert_exporter": "python",
   "pygments_lexer": "ipython3",
   "version": "3.10.14"
  }
 },
 "nbformat": 4,
 "nbformat_minor": 2
}
