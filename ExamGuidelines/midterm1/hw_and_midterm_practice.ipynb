{
 "cells": [
  {
   "cell_type": "code",
   "execution_count": 7,
   "metadata": {},
   "outputs": [
    {
     "name": "stdout",
     "output_type": "stream",
     "text": [
      "HELLOWORLDTHISISATEST\n",
      "PYTHONISFUN\n",
      "HELLO-WORLD\n"
     ]
    }
   ],
   "source": [
    "def format_strings(*args):\n",
    "    lower_char = \"abcdefghijklmnopqrstuvwxyz\"\n",
    "    upper_char = \"ABCDEFGHIJKLMNOPQRSTUVWXYZ\"\n",
    "    str_args = \"\"\n",
    "    result = \"\"\n",
    "    for arg in args:\n",
    "        str_args += arg\n",
    "    for char_args in str_args:\n",
    "        if char_args in upper_char:\n",
    "            result += char_args\n",
    "        elif char_args == \" \":\n",
    "            result += \"-\"\n",
    "        else:\n",
    "            for position_char in range(26):\n",
    "                if char_args == lower_char[position_char]:\n",
    "                    result += upper_char[position_char]\n",
    "    return result\n",
    "\n",
    "\n",
    "if __name__ == '__main__':\n",
    "    result = format_strings(\"Hello\", \"world\", \"this\", \n",
    "                            \"is\", \"a\", \"test\")\n",
    "    print(result)  # Output: \"HELLOWORLDTHISISATEST\"\n",
    "\n",
    "    result = format_strings(\"Python\", \"is\", \"fun\")\n",
    "    print(result)  # Output: \"PYTHONISFUN\"\n",
    "\n",
    "    result = format_strings(\"Hello world\")\n",
    "    print(result)  # Output: \"HELLO-WORLD\""
   ]
  },
  {
   "cell_type": "code",
   "execution_count": null,
   "metadata": {},
   "outputs": [],
   "source": [
    "def length_of_longest_substring_k_distinct(s: str, k: int) -> tuple:\n",
    "    if k == 0:\n",
    "        return 0, []\n",
    "    left = 0\n",
    "    max_length = 0\n",
    "    max_substring = []\n",
    "    for right in range(len(s)):\n",
    "        current_set = set(s[left:right + 1])\n",
    "        while len(current_set) > k:\n",
    "            left += 1\n",
    "            current_set = set(s[left:right + 1])\n",
    "        current_length = right - left + 1\n",
    "        if current_length > max_length:\n",
    "            max_length = current_length\n",
    "            max_substring = [(s[left:right + 1])]\n",
    "        elif current_length == max_length:\n",
    "            max_substring = max_substring + [(s[left:right + 1])]\n",
    "    return max_length, max_substring\n",
    "\n",
    "# Example usage:\n",
    "if __name__ == '__main__':\n",
    "    print(length_of_longest_substring_k_distinct(\"eceba\", 2))  \n",
    "    # Output: (3, [\"ece\"])\n",
    "    print(length_of_longest_substring_k_distinct(\"aa\", 1))    \n",
    "    # Output: (2, [\"aa\"])\n",
    "    print(length_of_longest_substring_k_distinct(\"a\", 2))      \n",
    "    # Output: (1, [\"a\"])\n",
    "    print(length_of_longest_substring_k_distinct(\"abcadcacacaca\", 3))  \n",
    "    # Output: (11, [\"cadcacacaca\"])\n",
    "    print(length_of_longest_substring_k_distinct(\"aaabbbcccddd\", 1))\n",
    "    print(length_of_longest_substring_k_distinct(\"aaabbbcccddd\", 0))"
   ]
  },
  {
   "cell_type": "code",
   "execution_count": 2,
   "metadata": {},
   "outputs": [
    {
     "name": "stdout",
     "output_type": "stream",
     "text": [
      "{4: 2, 5: 2, 6: 1, 7: 1, 8: 1}\n",
      "[6, 7, 8]\n",
      "{1: 1, 2: 2, 3: 2, 4: 2}\n",
      "[1]\n",
      "{1: 1, 2: 1, 3: 1, 4: 1, 5: 1, 6: 1}\n",
      "[1, 2, 3, 4, 5, 6]\n",
      "{1: 5}\n",
      "[]\n"
     ]
    }
   ],
   "source": [
    "def find_single_occurrence_numbers(numbers: list) -> list:\n",
    "    dict_num = dict()\n",
    "    for number in numbers:\n",
    "        if number in dict_num:\n",
    "            dict_num[number] += 1\n",
    "        else:\n",
    "            dict_num[number] = 1\n",
    "    print(dict_num)\n",
    "    return [number for number, count_num in \n",
    "            dict_num.items() if count_num == 1]\n",
    "\n",
    "\n",
    "if __name__ == \"__main__\":\n",
    "    print(find_single_occurrence_numbers([4, 5, 6, 4, 7, 5, 8]))\n",
    "    print(find_single_occurrence_numbers([1, 2, 2, 3, 3, 4, 4]))\n",
    "    print(find_single_occurrence_numbers([1, 2, 3, 4, 5, 6]))\n",
    "    print(find_single_occurrence_numbers([1, 1, 1, 1, 1]))\n"
   ]
  },
  {
   "cell_type": "code",
   "execution_count": 3,
   "metadata": {},
   "outputs": [
    {
     "name": "stdout",
     "output_type": "stream",
     "text": [
      "['an', 'ana', 'na']\n",
      "[]\n",
      "['ab', 'abc', 'abca', 'abcab', 'abcabc', 'bc', 'bca', 'bcab', 'bcabc', 'ca', 'cab', 'cabc']\n",
      "['aa', 'aaa']\n"
     ]
    }
   ],
   "source": [
    "def find_repeated_substrings(s: str) -> list:\n",
    "    possibility_message = dict()\n",
    "    for left in range(len(s)):\n",
    "        for right in range(left, len(s)):\n",
    "            # print(left, right, s[left : right + 1])\n",
    "            if s[left : right + 1] not in possibility_message:\n",
    "                possibility_message[s[left : right + 1]] = 1\n",
    "            else:\n",
    "                possibility_message[s[left : right + 1]] += 1\n",
    "            # print(possibility_message)\n",
    "    list_result = [\n",
    "        str_result\n",
    "        for str_result, count in possibility_message.items()\n",
    "        if count >= 2 and len(str_result) >= 2\n",
    "    ]\n",
    "    # print(possibility_message)\n",
    "    return list_result\n",
    "\n",
    "\n",
    "if __name__ == \"__main__\":\n",
    "    print(find_repeated_substrings(\"banana\"))\n",
    "    print(find_repeated_substrings(\"abcdefg\"))\n",
    "    print(find_repeated_substrings(\"abcabcabc\"))\n",
    "    print(find_repeated_substrings(\"aaaa\"))\n"
   ]
  },
  {
   "cell_type": "code",
   "execution_count": 6,
   "metadata": {},
   "outputs": [
    {
     "name": "stdout",
     "output_type": "stream",
     "text": [
      "{'everyone': 1, 'hello': 2, 'world': 1}\n",
      "{'this': 2, 'is': 4, 'a': 2, 'test': 2, 'easy': 1}\n",
      "{'is': 1, 'fun': 4, 'python': 1}\n",
      "{'one': 2, 'word': 2}\n"
     ]
    }
   ],
   "source": [
    "def word_frequency(text: str) -> dict:\n",
    "    text_lower = text.lower()\n",
    "    list_words = text_lower.split(\" \")\n",
    "    set_pure_words = set()\n",
    "    char_eng = \"abcdefghijklmnopqrstuvwsyz\"\n",
    "    for word in list_words:\n",
    "        pure_str = \"\"\n",
    "        for char in word:\n",
    "            if char in char_eng:\n",
    "                pure_str += char\n",
    "        set_pure_words.add(pure_str)\n",
    "    dict_result = dict()\n",
    "    for word in set_pure_words:\n",
    "        dict_result[word] = text_lower.count(word)\n",
    "    return dict_result\n",
    "\n",
    "\n",
    "if __name__ == \"__main__\":\n",
    "    print(word_frequency(\"Hello world! Hello everyone.\"))\n",
    "    print(word_frequency(\"This is a test. This test is easy.\"))\n",
    "    print(word_frequency(\"Python is fun. Fun fun fun!\"))\n",
    "    print(word_frequency(\"One word, one word.\"))\n"
   ]
  }
 ],
 "metadata": {
  "kernelspec": {
   "display_name": "Python310",
   "language": "python",
   "name": "python3"
  },
  "language_info": {
   "codemirror_mode": {
    "name": "ipython",
    "version": 3
   },
   "file_extension": ".py",
   "mimetype": "text/x-python",
   "name": "python",
   "nbconvert_exporter": "python",
   "pygments_lexer": "ipython3",
   "version": "3.10.14"
  }
 },
 "nbformat": 4,
 "nbformat_minor": 2
}
