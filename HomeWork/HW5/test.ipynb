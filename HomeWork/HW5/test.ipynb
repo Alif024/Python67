{
 "cells": [
  {
   "cell_type": "code",
   "execution_count": 1,
   "metadata": {},
   "outputs": [
    {
     "name": "stdout",
     "output_type": "stream",
     "text": [
      "Portal from (0, 3) to (2, 0)\n"
     ]
    }
   ],
   "source": [
    "portals = {\n",
    "        (0, 3): (2, 0),  # Portal from (0, 3) to (2, 0)\n",
    "        (2, 0): (0, 3)   # Portal from (2, 0) to (0, 3)\n",
    "    }\n",
    "\n",
    "if (0, 3) in portals:\n",
    "    print(\"Portal from (0, 3) to\", portals[(0, 3)])"
   ]
  }
 ],
 "metadata": {
  "kernelspec": {
   "display_name": "python312",
   "language": "python",
   "name": "python3"
  },
  "language_info": {
   "codemirror_mode": {
    "name": "ipython",
    "version": 3
   },
   "file_extension": ".py",
   "mimetype": "text/x-python",
   "name": "python",
   "nbconvert_exporter": "python",
   "pygments_lexer": "ipython3",
   "version": "3.12.5"
  }
 },
 "nbformat": 4,
 "nbformat_minor": 2
}
