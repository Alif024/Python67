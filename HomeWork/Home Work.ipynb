{
 "cells": [
  {
   "cell_type": "markdown",
   "metadata": {},
   "source": [
    "# Home Work"
   ]
  },
  {
   "cell_type": "markdown",
   "metadata": {},
   "source": [
    "## logAnalyzer.py"
   ]
  },
  {
   "cell_type": "code",
   "execution_count": 5,
   "metadata": {},
   "outputs": [
    {
     "name": "stdout",
     "output_type": "stream",
     "text": [
      "Log File Analysis Result:\n",
      "Requests by IP: {'192.168.1.1': 3, '192.168.1.2': 2}\n",
      "Most Requested Resource: /index.html\n",
      "Total 404 Errors: 2\n",
      "Total Bytes Transferred: 2432\n"
     ]
    }
   ],
   "source": [
    "def analyze_log_file(log_file_path: str) -> dict:\n",
    "    result = {\n",
    "        'requests_by_ip': {},\n",
    "        'most_requested_resource': None,\n",
    "        'total_bytes': 0,\n",
    "        'total_404_errors': 0,\n",
    "    }\n",
    "    with open(log_file_path, 'r') as log_file:\n",
    "        lines = [line.strip().split() for line in log_file.readlines()]\n",
    "    if len(lines) != 0:\n",
    "        list_of_requests = []\n",
    "        for line in lines:\n",
    "            if len(line) != 5:\n",
    "                continue\n",
    "            if line[0] not in result['requests_by_ip']:\n",
    "                result['requests_by_ip'][line[0]] = 1\n",
    "            else:\n",
    "                result['requests_by_ip'][line[0]] += 1\n",
    "            list_of_requests.append(line[2])\n",
    "            if line[3] == '404':\n",
    "                result['total_404_errors'] += 1\n",
    "            result['total_bytes'] += int(line[4])\n",
    "        for resource in list_of_requests:\n",
    "            try:\n",
    "                if list_of_requests.count(result[\"most_requested_resource\"]) < list_of_requests.count(resource):\n",
    "                    result[\"most_requested_resource\"] = resource\n",
    "            except KeyError:\n",
    "                result[\"most_requested_resource\"] = resource\n",
    "        return result\n",
    "    else:\n",
    "        return result\n",
    "\n",
    "\n",
    "log_file_path = '..\\\\HomeWork\\\\HW3\\\\server_log.txt'  # Replace with the path to your log file\n",
    "result = analyze_log_file(log_file_path)\n",
    "\n",
    "# Print the analysis result\n",
    "print(\"Log File Analysis Result:\")\n",
    "print(f\"Requests by IP: {result['requests_by_ip']}\")\n",
    "print(f\"Most Requested Resource: {result['most_requested_resource']}\")\n",
    "print(f\"Total 404 Errors: {result['total_404_errors']}\")\n",
    "print(f\"Total Bytes Transferred: {result['total_bytes']}\")\n"
   ]
  },
  {
   "cell_type": "markdown",
   "metadata": {},
   "source": [
    "## anagrams.py"
   ]
  },
  {
   "cell_type": "code",
   "execution_count": 1,
   "metadata": {},
   "outputs": [
    {
     "name": "stdout",
     "output_type": "stream",
     "text": [
      "[['eat', 'tea', 'ate'], ['tan', 'nat'], ['bat']]\n",
      "[['listen', 'silent', 'enlist'], ['hello'], ['world']]\n"
     ]
    }
   ],
   "source": [
    "def group_anagrams(words: list) -> list: \n",
    "    group_list = []\n",
    "    for word in words:\n",
    "        if set(list(word)) not in group_list:\n",
    "            group_list.append(set(list(word)))\n",
    "\n",
    "    result = []\n",
    "    for group in group_list:\n",
    "        temp = []\n",
    "        for word in words:\n",
    "            if set(list(word)) == group:\n",
    "                temp.append(word)\n",
    "        result.append(temp)\n",
    "    return result\n",
    "\n",
    "if __name__ == '__main__':\n",
    "    words = [\"eat\", \"tea\", \"tan\", \"ate\", \"nat\", \"bat\"] \n",
    "    print(group_anagrams(words)) \n",
    "\n",
    "    words = [\"listen\", \"silent\", \"enlist\", \"hello\", \"world\"] \n",
    "    print(group_anagrams(words)) "
   ]
  },
  {
   "cell_type": "markdown",
   "metadata": {},
   "source": [
    "## maze.py"
   ]
  },
  {
   "cell_type": "code",
   "execution_count": 6,
   "metadata": {},
   "outputs": [
    {
     "name": "stdout",
     "output_type": "stream",
     "text": [
      "Distance: 5, Path: [(0, 0), (0, 1), (0, 2), (1, 2), (2, 2), (2, 3)]\n",
      "Distance: 6, Path: [(0, 0), (0, 1), (1, 1), (2, 1), (2, 2), (0, 5), (1, 5), (2, 5)]\n"
     ]
    }
   ],
   "source": [
    "from collections import deque\n",
    "\n",
    "def maze_solver_with_teleport(maze: list, portals: dict):\n",
    "    rows, cols = len(maze), len(maze[0])\n",
    "    start = None\n",
    "    end = None\n",
    "    for r in range(rows):\n",
    "        for c in range(cols):\n",
    "            if maze[r][c] == 'S':\n",
    "                start = (r, c)\n",
    "            elif maze[r][c] == 'E':\n",
    "                end = (r, c)\n",
    "    directions = [(-1, 0), (1, 0), (0, -1), (0, 1)]\n",
    "    queue = deque([(start, [start], 0)])  \n",
    "    visited = set()\n",
    "    visited.add(start)\n",
    "    while queue:\n",
    "        (current, path, steps) = queue.popleft()\n",
    "        if current == end:\n",
    "            return steps, path\n",
    "        for d in directions:\n",
    "            next_r, next_c = current[0] + d[0], current[1] + d[1]\n",
    "            \n",
    "            if 0 <= next_r < rows and 0 <= next_c < cols:\n",
    "                if maze[next_r][next_c] != '#' and (next_r, next_c) not in visited:\n",
    "                    \n",
    "                    visited.add((next_r, next_c))\n",
    "                    next_steps = steps + 1\n",
    "                    queue.append(((next_r, next_c), path + [(next_r, next_c)], next_steps))\n",
    "                    \n",
    "                    if maze[next_r][next_c] == 'P':\n",
    "                        portal_destination = portals[(next_r, next_c)]\n",
    "                        if portal_destination not in visited:\n",
    "                            visited.add(portal_destination)\n",
    "                            queue.append((portal_destination, path + [(next_r, next_c), portal_destination], next_steps))\n",
    "\n",
    "    return -1, []  \n",
    "    # \n",
    "if __name__ == \"__main__\":\n",
    "    # Example 1\n",
    "    maze = [\n",
    "        ['S', '.', '.', 'P'],\n",
    "        ['#', '#', '.', '#'],\n",
    "        ['P', '.', '.', 'E'],\n",
    "        ['#', '#', '#', '#']\n",
    "    ]\n",
    "\n",
    "    portals = {\n",
    "        (0, 3): (2, 0),  # Portal from (0, 3) to (2, 0)\n",
    "        (2, 0): (0, 3)   # Portal from (2, 0) to (0, 3)\n",
    "    }\n",
    "\n",
    "    distance, path = maze_solver_with_teleport(maze, portals)\n",
    "    print(f\"Distance: {distance}, Path: {path}\")\n",
    "    # Output: Distance: 5, Path: [(0, 0), (1, 0), (1, 1), (1, 2), (2, 2), (2, 3)]\n",
    "\n",
    "\n",
    "    # Example 2\n",
    "    maze = [\n",
    "        ['S', '.', '#', 'P', '#', 'P'],\n",
    "        ['#', '.', '#', '.', '#', '.'],\n",
    "        ['#', '.', 'P', '.', '.', 'E'],\n",
    "        ['P', '#', '#', '#', '#', '#'],\n",
    "        ['#', '.', '.', 'P', '.', '.']\n",
    "    ]\n",
    "\n",
    "    portals = {\n",
    "        (0, 3): (3, 0),  # Portal from (0, 3) to (3, 0)\n",
    "        (3, 0): (0, 3),  # Portal from (3, 0) to (0, 3)\n",
    "        (0, 5): (2, 2),  # Portal from (0, 5) to (2, 2)\n",
    "        (2, 2): (0, 5)   # Portal from (2, 2) to (0, 5)\n",
    "    }\n",
    "\n",
    "    distance, path = maze_solver_with_teleport(maze, portals)\n",
    "    print(f\"Distance: {distance}, Path: {path}\")\n",
    "    # Expected Output: Distance: 6, Path: [(0, 0), (0, 1), (1, 1), (2, 1), (2, 2), (0, 5), (1, 5), (2, 5)]"
   ]
  }
 ],
 "metadata": {
  "kernelspec": {
   "display_name": "basicPython",
   "language": "python",
   "name": "python3"
  },
  "language_info": {
   "codemirror_mode": {
    "name": "ipython",
    "version": 3
   },
   "file_extension": ".py",
   "mimetype": "text/x-python",
   "name": "python",
   "nbconvert_exporter": "python",
   "pygments_lexer": "ipython3",
   "version": "3.12.5"
  }
 },
 "nbformat": 4,
 "nbformat_minor": 2
}
