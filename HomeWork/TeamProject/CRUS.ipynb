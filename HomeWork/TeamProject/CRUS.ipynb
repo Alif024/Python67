{
 "cells": [
  {
   "cell_type": "code",
   "execution_count": 31,
   "metadata": {},
   "outputs": [],
   "source": [
    "import struct\n",
    "\n",
    "def addData(pathFile: str, records: tuple):\n",
    "    with open(pathFile, \"ab\") as file:\n",
    "        data = struct.pack(\"20si20s\", records[0].encode(), records[1], records[2].encode())\n",
    "        file.write(data)\n",
    "\n",
    "\n",
    "if __name__ == \"__main__\":\n",
    "    list_records = [(\"Alice\", 25, \"Lost Angeles\"),\n",
    "                    (\"Bob\", 30, \"New York\"),\n",
    "                    (\"Helen\", 35, \"Chicago\"),\n",
    "                    (\"Dylan\", 40, \"San Francisco\"),\n",
    "                    (\"Eva\", 45, \"Miami\"),\n",
    "                    (\"Frank\", 50, \"Las Vegas\"),\n",
    "                    (\"Grace\", 55, \"Seattle\"),\n",
    "                    (\"Henry\", 60, \"Boston\"),\n",
    "                    (\"Ivy\", 65, \"Houston\"),\n",
    "                    (\"Jack\", 70, \"Philadelphia\"),\n",
    "                    (\"Kathy\", 75, \"Denver\"),\n",
    "                    (\"Leo\", 80, \"Phoenix\"),\n",
    "                    (\"Mia\", 85, \"Portland\"),\n",
    "                    (\"Nick\", 60, \"San Diego\"),\n",
    "                    (\"Olivia\", 45, \"Washington\"),\n",
    "                    (\"Peter\", 30, \"Austin\"),\n",
    "                    (\"Quinn\", 15, \"Dallas\"),]\n",
    "    for record in list_records:\n",
    "        addData(\"data.bin\", record)"
   ]
  },
  {
   "cell_type": "code",
   "execution_count": 10,
   "metadata": {},
   "outputs": [
    {
     "name": "stdout",
     "output_type": "stream",
     "text": [
      "[('Alice', 25, 'Lost Angeles'), ('Alice', 25, 'Lost Angeles')]\n"
     ]
    }
   ],
   "source": [
    "import struct\n",
    "\n",
    "def readAllData(pathFile: str) -> list:\n",
    "    result = []\n",
    "    with open(pathFile, \"rb\") as file:\n",
    "        while True:\n",
    "            data = file.read(struct.calcsize(\"20si20s\"))\n",
    "            if not data:\n",
    "                break\n",
    "            record = struct.unpack(\"20si20s\", data)\n",
    "            record = (record[0].decode().strip('\\x00'), record[1], record[2].decode().strip('\\x00'))\n",
    "            result.append(record)\n",
    "    return result\n",
    "\n",
    "if __name__ == \"__main__\":\n",
    "    print(readAllData(\"testData.bin\"))"
   ]
  },
  {
   "cell_type": "code",
   "execution_count": 21,
   "metadata": {},
   "outputs": [],
   "source": [
    "import struct\n",
    "\n",
    "def addData(pathFile: str, records: dict):\n",
    "    with open(pathFile, \"ab\") as file:\n",
    "        data = struct.pack(\"20si20s\", records['name'].encode(), records['age'], records['city'].encode())\n",
    "        file.write(data)\n",
    "\n",
    "\n",
    "if __name__ == \"__main__\":\n",
    "    records = {\"name\": \"Alice\", \"age\": 25, \"city\": \"Lost Angeles\"}\n",
    "    addData(\"testDataDict.bin\", records)"
   ]
  },
  {
   "cell_type": "code",
   "execution_count": 14,
   "metadata": {},
   "outputs": [
    {
     "name": "stdout",
     "output_type": "stream",
     "text": [
      "[{'name': 'Alice', 'age': 25, 'city': 'Lost Angeles'}, {'name': 'Alice', 'age': 25, 'city': 'Lost Angeles'}]\n"
     ]
    }
   ],
   "source": [
    "import struct\n",
    "\n",
    "def readAllData(pathFile: str) -> list:\n",
    "    result = []\n",
    "    with open(pathFile, \"rb\") as file:\n",
    "        while True:\n",
    "            data = file.read(struct.calcsize(\"20si20s\"))\n",
    "            if not data:\n",
    "                break\n",
    "            record = struct.unpack(\"20si20s\", data)\n",
    "            record = (record[0].decode().strip('\\x00'), record[1], record[2].decode().strip('\\x00'))\n",
    "            result.append({\"name\": record[0], \"age\": record[1], \"city\": record[2]})\n",
    "    return result\n",
    "\n",
    "if __name__ == \"__main__\":\n",
    "    print(readAllData(\"testDataDict.bin\"))"
   ]
  }
 ],
 "metadata": {
  "kernelspec": {
   "display_name": "basicPython",
   "language": "python",
   "name": "python3"
  },
  "language_info": {
   "codemirror_mode": {
    "name": "ipython",
    "version": 3
   },
   "file_extension": ".py",
   "mimetype": "text/x-python",
   "name": "python",
   "nbconvert_exporter": "python",
   "pygments_lexer": "ipython3",
   "version": "3.12.5"
  }
 },
 "nbformat": 4,
 "nbformat_minor": 2
}
