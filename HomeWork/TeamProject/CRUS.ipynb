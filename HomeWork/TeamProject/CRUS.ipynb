{
 "cells": [
  {
   "cell_type": "code",
   "execution_count": 3,
   "metadata": {},
   "outputs": [],
   "source": [
    "import struct\n",
    "\n",
    "def addData(pathFile: str, records: tuple):\n",
    "    with open(pathFile, \"ab\") as file:\n",
    "        data = struct.pack(\"20si20s\", records[0].encode(), records[1], records[2].encode())\n",
    "        file.write(data)\n",
    "\n",
    "\n",
    "if __name__ == \"__main__\":\n",
    "    list_records = [(\"Alice\", 25, \"Lost Angeles\"),\n",
    "                    (\"Bob\", 30, \"New York\"),\n",
    "                    (\"Helen\", 35, \"Chicago\"),\n",
    "                    (\"Dylan\", 40, \"San Francisco\"),\n",
    "                    (\"Eva\", 45, \"Miami\"),\n",
    "                    (\"Frank\", 50, \"Las Vegas\"),\n",
    "                    (\"Grace\", 55, \"Seattle\"),\n",
    "                    (\"Henry\", 60, \"Boston\"),\n",
    "                    (\"Ivy\", 65, \"Houston\"),\n",
    "                    (\"Jack\", 70, \"Philadelphia\"),\n",
    "                    (\"Kathy\", 75, \"Denver\"),\n",
    "                    (\"Leo\", 80, \"Phoenix\"),\n",
    "                    (\"Mia\", 85, \"Portland\"),\n",
    "                    (\"Nick\", 60, \"San Diego\"),\n",
    "                    (\"Olivia\", 45, \"Washington\"),\n",
    "                    (\"Peter\", 30, \"Austin\"),\n",
    "                    (\"Quinn\", 15, \"Dallas\"),]\n",
    "    for record in list_records:\n",
    "        addData(\"data.bin\", record)"
   ]
  },
  {
   "cell_type": "code",
   "execution_count": 53,
   "metadata": {},
   "outputs": [
    {
     "name": "stdout",
     "output_type": "stream",
     "text": [
      "[('Quinn', 15, 'Dallas'), ('Alice', 25, 'Lost Angeles'), ('Bob', 30, 'New York'), ('Helen', 35, 'Chicago'), ('Dylan', 40, 'San Francisco'), ('Eva', 45, 'Miami'), ('Frank', 50, 'Las Vegas'), ('Grace', 55, 'Seattle'), ('Henry', 60, 'Boston'), ('Ivy', 65, 'Houston'), ('Jack', 70, 'Philadelphia'), ('Kathy', 75, 'Denver'), ('Leo', 80, 'Phoenix'), ('Mia', 85, 'Portland'), ('Nick', 60, 'San Diego'), ('Olivia', 45, 'Washington'), ('Peter', 30, 'Austin'), ('Quinn', 15, 'Dallas')]\n"
     ]
    }
   ],
   "source": [
    "import struct\n",
    "\n",
    "def readAllData(pathFile: str) -> list:\n",
    "    result = []\n",
    "    with open(pathFile, \"rb\") as file:\n",
    "        while True:\n",
    "            data = file.read(struct.calcsize(\"20si20s\"))\n",
    "            if not data:\n",
    "                break\n",
    "            record = struct.unpack(\"20si20s\", data)\n",
    "            record = (record[0].decode().strip('\\x00'), record[1], record[2].decode().strip('\\x00'))\n",
    "            result.append(record)\n",
    "    return result\n",
    "\n",
    "if __name__ == \"__main__\":\n",
    "    print(readAllData(\"testData.bin\"))"
   ]
  },
  {
   "cell_type": "code",
   "execution_count": 21,
   "metadata": {},
   "outputs": [],
   "source": [
    "import struct\n",
    "\n",
    "def addData(pathFile: str, records: dict):\n",
    "    with open(pathFile, \"ab\") as file:\n",
    "        data = struct.pack(\"20si20s\", records['name'].encode(), records['age'], records['city'].encode())\n",
    "        file.write(data)\n",
    "\n",
    "\n",
    "if __name__ == \"__main__\":\n",
    "    records = {\"name\": \"Alice\", \"age\": 25, \"city\": \"Lost Angeles\"}\n",
    "    addData(\"testDataDict.bin\", records)"
   ]
  },
  {
   "cell_type": "code",
   "execution_count": 14,
   "metadata": {},
   "outputs": [
    {
     "name": "stdout",
     "output_type": "stream",
     "text": [
      "[{'name': 'Alice', 'age': 25, 'city': 'Lost Angeles'}, {'name': 'Alice', 'age': 25, 'city': 'Lost Angeles'}]\n"
     ]
    }
   ],
   "source": [
    "import struct\n",
    "\n",
    "def readAllData(pathFile: str) -> list:\n",
    "    result = []\n",
    "    with open(pathFile, \"rb\") as file:\n",
    "        while True:\n",
    "            data = file.read(struct.calcsize(\"20si20s\"))\n",
    "            if not data:\n",
    "                break\n",
    "            record = struct.unpack(\"20si20s\", data)\n",
    "            record = (record[0].decode().strip('\\x00'), record[1], record[2].decode().strip('\\x00'))\n",
    "            result.append({\"name\": record[0], \"age\": record[1], \"city\": record[2]})\n",
    "    return result\n",
    "\n",
    "if __name__ == \"__main__\":\n",
    "    print(readAllData(\"testDataDict.bin\"))"
   ]
  },
  {
   "cell_type": "markdown",
   "metadata": {},
   "source": [
    "# Numpy\n"
   ]
  },
  {
   "cell_type": "code",
   "execution_count": 57,
   "metadata": {},
   "outputs": [],
   "source": [
    "import struct\n",
    "\n",
    "def addData(pathFile: str, records: tuple):\n",
    "    with open(pathFile, \"ab\") as file:\n",
    "        data = struct.pack(\"20s20s20sff\", records[0].encode(), records[1].encode(), records[2].encode(), records[3], records[4])\n",
    "        file.write(data)\n",
    "\n",
    "\n",
    "if __name__ == \"__main__\":\n",
    "    list_records = [\n",
    "        # data employee\n",
    "        (\"0001\", \"Robert\", \"Engineering\", 90, 40000),\n",
    "        (\"0002\", \"Alice\", \"Sales\", 80, 25000),\n",
    "        (\"0003\", \"John\", \"Marketing\", 85, 35000),\n",
    "        (\"0004\", \"Emily\", \"Finance\", 95, 45000),\n",
    "        (\"0005\", \"David\", \"HR\", 75, 30000),\n",
    "        (\"0008\", \"Jessica\", \"Marketing\", 87, 38000),\n",
    "        (\"0009\", \"Daniel\", \"Finance\", 93, 47000),\n",
    "        (\"0010\", \"Sophia\", \"HR\", 72, 28000),\n",
    "        (\"0011\", \"Matthew\", \"Engineering\", 88, 41000),\n",
    "        (\"0012\", \"Emma\", \"Sales\", 82, 27000),\n",
    "        (\"0013\", \"Andrew\", \"Marketing\", 90, 36000),\n",
    "        (\"0014\", \"Olivia\", \"Finance\", 97, 48000),\n",
    "        (\"0015\", \"James\", \"HR\", 80, 32000),\n",
    "        (\"0006\", \"Sarah\", \"Engineering\", 92, 42000),\n",
    "        (\"0007\", \"Michael\", \"Sales\", 78, 23000),\n",
    "    ]\n",
    "    for record in list_records:\n",
    "        addData(\"testData.bin\", record)"
   ]
  },
  {
   "cell_type": "code",
   "execution_count": 90,
   "metadata": {},
   "outputs": [
    {
     "name": "stdout",
     "output_type": "stream",
     "text": [
      "  ID    Name Department  Score  Salary\n",
      "0004   Emily    Finance   95.0 45000.0\n",
      "0011 Matthew Engineerin   88.0 41000.0\n",
      "\n",
      "  ID   Name Department  Score  Salary\n",
      "0001 Robert Engineerin   90.0 40000.0\n",
      "0013 Andrew  Marketing   90.0 36000.0\n",
      "\n",
      "  ID   Name Department  Score  Salary\n",
      "0001 Robert Engineerin   90.0 40000.0\n",
      "0004  Emily    Finance   95.0 45000.0\n",
      "\n",
      "  ID    Name Department  Score  Salary\n",
      "0001  Robert Engineerin   90.0 40000.0\n",
      "0002   Alice      Sales   80.0 25000.0\n",
      "0003    John  Marketing   85.0 35000.0\n",
      "0004   Emily    Finance   95.0 45000.0\n",
      "0005   David         HR   75.0 30000.0\n",
      "0006   Sarah Engineerin   92.0 42000.0\n",
      "0007 Michael      Sales   78.0 23000.0\n",
      "0008 Jessica  Marketing   87.0 38000.0\n",
      "0009  Daniel    Finance   93.0 47000.0\n",
      "0010  Sophia         HR   72.0 28000.0\n",
      "0011 Matthew Engineerin   88.0 41000.0\n",
      "0012    Emma      Sales   82.0 27000.0\n",
      "0013  Andrew  Marketing   90.0 36000.0\n",
      "0014  Olivia    Finance   97.0 48000.0\n",
      "0015   James         HR   80.0 32000.0\n"
     ]
    }
   ],
   "source": [
    "import numpy as np\n",
    "import pandas as pd\n",
    "\n",
    "def showAllData():\n",
    "    with open(\"testData.bin\", \"rb\") as file:\n",
    "        record_size = struct.calcsize(\"20s20s20sff\")\n",
    "        list_records = []\n",
    "        while True:\n",
    "            data = file.read(record_size)\n",
    "            if not data:\n",
    "                break\n",
    "            records = struct.unpack(\"20s20s20sff\", data)\n",
    "            records = (records[0].decode().strip('\\x00'), records[1].decode().strip(\n",
    "                '\\x00'), records[2].decode().strip('\\x00'), records[3], records[4])\n",
    "            list_records.append(records)\n",
    "    # Define the data types for each field\n",
    "    dtype = [('ID', 'U4'),    # 4-character string for ID\n",
    "            ('Name', 'U10'), # 10-character string for Name\n",
    "            ('Department', 'U10'), # 10-character string for Department\n",
    "            ('Score', 'f4'), # float for Score\n",
    "            ('Salary', 'f4')] # float for Salary\n",
    "    # Create a structured NumPy array\n",
    "    data_arr = np.asarray(list_records, dtype=dtype)\n",
    "    # Sort by the 'ID' field\n",
    "    sorted_data = np.sort(data_arr, order='ID')\n",
    "    # Convert to Pandas DataFrame for display\n",
    "    df_data_arr = pd.DataFrame(sorted_data)\n",
    "    # Display the data without the index column\n",
    "    print(df_data_arr.to_string(index=False))\n",
    "\n",
    "\n",
    "def showSpecificData(col: int, list_search:list):\n",
    "    with open(\"testData.bin\", \"rb\") as file:\n",
    "        record_size = struct.calcsize(\"20s20s20sff\")\n",
    "        list_records = []\n",
    "        while True:\n",
    "            data = file.read(record_size)\n",
    "            if not data:\n",
    "                break\n",
    "            records = struct.unpack(\"20s20s20sff\", data)\n",
    "            records = (records[0].decode().strip('\\x00'), records[1].decode().strip(\n",
    "                '\\x00'), records[2].decode().strip('\\x00'), records[3], records[4])\n",
    "            list_records.append(records)\n",
    "    # Define the data types for each field\n",
    "    dtype = [('ID', 'U4'),          # 4-character string for ID\n",
    "            ('Name', 'U10'),        # 10-character string for Name\n",
    "            ('Department', 'U10'),  # 10-character string for Department\n",
    "            ('Score', 'f4'),        # float for Score\n",
    "            ('Salary', 'f4')]       # float for Salary\n",
    "    # Create a structured NumPy array\n",
    "    data_arr = np.asarray(list_records, dtype=dtype)\n",
    "    # Convert 'col' to the appropriate field name\n",
    "    field = ['ID', 'Name', 'Department', 'Score', 'Salary'][col]\n",
    "    # Filter the structured array based on the field\n",
    "    fltr = np.asarray(list_search)\n",
    "    data_fltr = data_arr[np.in1d(data_arr[field], fltr)]\n",
    "    # Convert to Pandas DataFrame for display\n",
    "    df_data_fltr = pd.DataFrame(data=data_fltr)\n",
    "    print(df_data_fltr.to_string(index=False))\n",
    "\n",
    "showSpecificData(1, ['Emily', 'Matthew'])\n",
    "print()\n",
    "showSpecificData(3, [90])\n",
    "print()\n",
    "showSpecificData(4, [40000, 45000])\n",
    "print()\n",
    "showAllData()"
   ]
  }
 ],
 "metadata": {
  "kernelspec": {
   "display_name": "basicPython",
   "language": "python",
   "name": "python3"
  },
  "language_info": {
   "codemirror_mode": {
    "name": "ipython",
    "version": 3
   },
   "file_extension": ".py",
   "mimetype": "text/x-python",
   "name": "python",
   "nbconvert_exporter": "python",
   "pygments_lexer": "ipython3",
   "version": "3.12.5"
  }
 },
 "nbformat": 4,
 "nbformat_minor": 2
}
