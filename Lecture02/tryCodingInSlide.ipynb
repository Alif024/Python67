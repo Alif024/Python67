{
 "cells": [
  {
   "cell_type": "code",
   "execution_count": 1,
   "metadata": {},
   "outputs": [
    {
     "name": "stdout",
     "output_type": "stream",
     "text": [
      "x = 7 y = 5\n"
     ]
    }
   ],
   "source": [
    "x = 5\n",
    "y = 7\n",
    "x,y = y,x\n",
    "print('x = %d y = %d' %(x,y))"
   ]
  },
  {
   "cell_type": "code",
   "execution_count": 2,
   "metadata": {},
   "outputs": [
    {
     "name": "stdout",
     "output_type": "stream",
     "text": [
      "<class 'bool'>\n",
      "<class 'bool'>\n"
     ]
    }
   ],
   "source": [
    "t = True\n",
    "f = False\n",
    "print(type(t))\n",
    "print(type(f))"
   ]
  },
  {
   "cell_type": "code",
   "execution_count": 3,
   "metadata": {},
   "outputs": [
    {
     "name": "stdout",
     "output_type": "stream",
     "text": [
      "x + y = 19\n",
      "x - y = 11\n",
      "x * y = 60\n",
      "x / y = 3.75\n",
      "x % y = 3\n",
      "x // y = 3\n",
      "x ** y = 50625\n"
     ]
    }
   ],
   "source": [
    "x = 15\n",
    "y = 4\n",
    "print(\"x + y =\", x + y)\n",
    "print(\"x - y =\", x - y)\n",
    "print(\"x * y =\", x * y)\n",
    "print(\"x / y =\", x / y)\n",
    "print(\"x % y =\", x % y)\n",
    "print(\"x // y =\", x // y)\n",
    "print(\"x ** y =\", x**y)"
   ]
  },
  {
   "cell_type": "code",
   "execution_count": 4,
   "metadata": {},
   "outputs": [
    {
     "name": "stdout",
     "output_type": "stream",
     "text": [
      "Hello Alif Waehayee \n"
     ]
    }
   ],
   "source": [
    "first_name = input('Enter your first name: ')\n",
    "last_name = input('Enter your last name: ')\n",
    "print(\"Hello\", first_name, last_name)"
   ]
  },
  {
   "cell_type": "code",
   "execution_count": 5,
   "metadata": {},
   "outputs": [
    {
     "name": "stdout",
     "output_type": "stream",
     "text": [
      "Here is the data you entered: \n",
      "Name:  Alif\n",
      "Age:  22\n",
      "Income:     20,000.00\n"
     ]
    }
   ],
   "source": [
    "name = input('What is your name? ')\n",
    "age = int(input('What is your age? '))\n",
    "income = float(input('What is your income? '))\n",
    "\n",
    "print('Here is the data you entered: ')\n",
    "print('Name: ', name)\n",
    "print('Age: ', age)\n",
    "print('Income: ', format(income, '12,.2f'))"
   ]
  },
  {
   "cell_type": "code",
   "execution_count": 4,
   "metadata": {},
   "outputs": [
    {
     "name": "stdout",
     "output_type": "stream",
     "text": [
      "You are 22 years old and 172.0 centimetre tall.\n"
     ]
    }
   ],
   "source": [
    "age = int(input(\"Enter your age: \"))\n",
    "height = float(input(\"Enter your height: \"))\n",
    "print(f\"You are {age} years old and {height} centimetre tall.\")"
   ]
  },
  {
   "cell_type": "code",
   "execution_count": null,
   "metadata": {},
   "outputs": [],
   "source": [
    "# kg/m2\n",
    "class BMI:\n",
    "    def __init__(self, weight, height):\n",
    "        self.weight = weight\n",
    "        self.height = height / 100\n",
    "\n",
    "    def getBMI(self):\n",
    "        self.bmi = self.weight / (self.height**2)\n",
    "        return self.bmi\n",
    "    \n",
    "    def showStatus(self):\n",
    "        if self.bmi <= 18.50:\n",
    "            self.status = \"น้ำหนักน้อย / ผอม\"\n",
    "        elif self.bmi <= 22.90:\n",
    "            self.status = \"ปกติ (สุขภาพดี)\"\n",
    "        elif self.bmi <= 24.90:\n",
    "            self.status = \"ท้วม / โรคอ้วนระดับ 1\"\n",
    "        elif self.bmi <= 29.90:\n",
    "            self.status = \"อ้วน / โรคอ้วนระดับ 2\"\n",
    "        else:\n",
    "            self.status = \"อ้วนมาก / โรคอ้วนระดับ 3\"\n",
    "        print(self.status)\n",
    "\n",
    "\n",
    "weight = float(input(\"Enter your weight in kilograms:\"))\n",
    "height = float(input(\"Enter your height in meters:\"))\n",
    "person1 = BMI(weight, height)\n",
    "\n",
    "print(format(person1.getBMI(), '.2f'))\n",
    "person1.showStatus()"
   ]
  },
  {
   "cell_type": "code",
   "execution_count": 7,
   "metadata": {},
   "outputs": [
    {
     "name": "stdout",
     "output_type": "stream",
     "text": [
      "Temperature in Fahrenheit is 82.4\n"
     ]
    }
   ],
   "source": [
    "celsius = float(input(\"Enter temperature in Celsius: \"))\n",
    "fahrenheit = (celsius * 9/5) + 32\n",
    "print(f\"Temperature in Fahrenheit is {fahrenheit}\")"
   ]
  },
  {
   "cell_type": "code",
   "execution_count": 6,
   "metadata": {},
   "outputs": [
    {
     "name": "stdout",
     "output_type": "stream",
     "text": [
      "average number of female student:  30.0\n",
      "average number of male student:  70.0\n"
     ]
    }
   ],
   "source": [
    "num_male_student = int(input(\"Enter number of male student: \"))\n",
    "num_female_student = int(input(\"Enter number of female student: \"))\n",
    "\n",
    "total_student = num_male_student + num_female_student\n",
    "average_female = (num_female_student / total_student)*100\n",
    "average_male = (num_male_student / total_student)*100\n",
    "\n",
    "print(\"average number of female student: \", average_female)\n",
    "print(\"average number of male student: \", average_male)"
   ]
  }
 ],
 "metadata": {
  "kernelspec": {
   "display_name": ".venv",
   "language": "python",
   "name": "python3"
  },
  "language_info": {
   "codemirror_mode": {
    "name": "ipython",
    "version": 3
   },
   "file_extension": ".py",
   "mimetype": "text/x-python",
   "name": "python",
   "nbconvert_exporter": "python",
   "pygments_lexer": "ipython3",
   "version": "3.12.4"
  }
 },
 "nbformat": 4,
 "nbformat_minor": 2
}
