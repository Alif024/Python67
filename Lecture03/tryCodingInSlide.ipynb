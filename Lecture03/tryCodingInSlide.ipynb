{
 "cells": [
  {
   "cell_type": "code",
   "execution_count": 1,
   "metadata": {},
   "outputs": [
    {
     "name": "stdout",
     "output_type": "stream",
     "text": [
      "You are an adult.\n"
     ]
    }
   ],
   "source": [
    "age = int(input(\"Please input your age: \"))\n",
    "if age >= 18:\n",
    "    print(\"You are an adult.\")"
   ]
  },
  {
   "cell_type": "code",
   "execution_count": 7,
   "metadata": {},
   "outputs": [
    {
     "name": "stdout",
     "output_type": "stream",
     "text": [
      "The average score is 83.00\n"
     ]
    }
   ],
   "source": [
    "score_test1 = float(input(\"Enter the score for test 1: \"))\n",
    "score_test2 = float(input(\"Enter the score for test 2: \"))\n",
    "score_test3 = float(input(\"Enter the score for test 3: \"))\n",
    "average = (score_test1+score_test2+score_test3)/3\n",
    "print(f\"The average score is {average:.2f}.\")\n",
    "if average > 95:\n",
    "    print(\"Congratulations!\\nThat is a great average!\")"
   ]
  },
  {
   "cell_type": "code",
   "execution_count": 9,
   "metadata": {},
   "outputs": [
    {
     "name": "stdout",
     "output_type": "stream",
     "text": [
      "This is a medium-sized company.\n",
      "The number of employees is 150.\n"
     ]
    }
   ],
   "source": [
    "num_employees = int(input(\"Enter the number of employees: \"))\n",
    "if num_employees < 50:\n",
    "    print(\"This is a small company.\")\n",
    "elif num_employees < 250:\n",
    "    print(\"This is a medium-sized company.\")\n",
    "elif num_employees >= 250:\n",
    "    print(\"This is a large company.\")\n",
    "print(f\"The number of employees is {num_employees}.\")"
   ]
  },
  {
   "cell_type": "code",
   "execution_count": 10,
   "metadata": {},
   "outputs": [
    {
     "name": "stdout",
     "output_type": "stream",
     "text": [
      "Grade: C\n"
     ]
    }
   ],
   "source": [
    "score = 75\n",
    "if score >= 90:\n",
    "    print(\"Grade: A\")\n",
    "if score >= 80:\n",
    "    print(\"Grade: B\")\n",
    "if score >= 70:\n",
    "    print(\"Grade: C\")\n",
    "else:\n",
    "    print(\"Grade: D or F\")"
   ]
  },
  {
   "cell_type": "code",
   "execution_count": 25,
   "metadata": {},
   "outputs": [
    {
     "name": "stdout",
     "output_type": "stream",
     "text": [
      "Your input Lower Case Letter  l\n"
     ]
    }
   ],
   "source": [
    "inchar = input(\"Input one charecter: \")\n",
    "if inchar >= 'A' and inchar <= 'Z':\n",
    "    print(\"Your input Upper Case Letter \", inchar)\n",
    "elif inchar >= 'a' and inchar <= 'z':\n",
    "    print(\"Your input Lower Case Letter \", inchar)\n",
    "elif inchar >= '0' and inchar <= '9':\n",
    "    print(\"Your input Number \", inchar)\n",
    "else:\n",
    "    print(\"It's not a letter or number.\", inchar)"
   ]
  },
  {
   "cell_type": "code",
   "execution_count": 29,
   "metadata": {},
   "outputs": [
    {
     "name": "stdout",
     "output_type": "stream",
     "text": [
      "Your input Number  4\n"
     ]
    }
   ],
   "source": [
    "inchar = input(\"Input one charecter: \")\n",
    "ASCII = ord(inchar)\n",
    "if ASCII >= 65 and ASCII <= 90:\n",
    "    print(\"Your input Upper Case Letter \", inchar)\n",
    "elif ASCII >= 97 and ASCII <= 122:\n",
    "    print(\"Your input Lower Case Letter \", inchar)\n",
    "elif ASCII >= 48 and ASCII <= 57:\n",
    "    print(\"Your input Number \", inchar)\n",
    "else:\n",
    "    print(\"It's not a letter or number.\", inchar)"
   ]
  },
  {
   "cell_type": "code",
   "execution_count": 2,
   "metadata": {},
   "outputs": [
    {
     "name": "stdout",
     "output_type": "stream",
     "text": [
      "Positive number.\n"
     ]
    }
   ],
   "source": [
    "num = float(input(\"Enter a number: \"))\n",
    "if num > 0:\n",
    "    print(\"Positive number.\")\n",
    "elif num == 0:\n",
    "    print(\"Zero.\")\n",
    "else:\n",
    "    print(\"Negative number.\")"
   ]
  },
  {
   "cell_type": "code",
   "execution_count": null,
   "metadata": {},
   "outputs": [
    {
     "name": "stdout",
     "output_type": "stream",
     "text": [
      "Pass\n"
     ]
    }
   ],
   "source": [
    "score = int(input(\"Input score: \"))\n",
    "if score >= 50:\n",
    "    print(\"Pass\")\n",
    "else:\n",
    "    print(\"Fail\")"
   ]
  },
  {
   "cell_type": "code",
   "execution_count": 4,
   "metadata": {},
   "outputs": [
    {
     "name": "stdout",
     "output_type": "stream",
     "text": [
      "False\n",
      "True\n",
      "False\n",
      "True\n",
      "False\n",
      "True\n"
     ]
    }
   ],
   "source": [
    "x = 10\n",
    "y = 20\n",
    "\n",
    "print(x == y)\n",
    "print(x != y)\n",
    "print(x > y)\n",
    "print(x < y)\n",
    "print(x >= y)\n",
    "print(x <= y)"
   ]
  },
  {
   "cell_type": "code",
   "execution_count": 6,
   "metadata": {},
   "outputs": [
    {
     "name": "stdout",
     "output_type": "stream",
     "text": [
      "Mary and Mark are not equal.\n",
      "Mary comes after Mark in lexicographical order.\n",
      "Mary and Mark are not equal when case is ignored.\n"
     ]
    }
   ],
   "source": [
    "string1 = input(\"Input the first string: \")\n",
    "string2 = input(\"Input the second string: \")\n",
    "\n",
    "if string1 == string2:\n",
    "    print(f\"{string1} and {string2} are equal.\")\n",
    "else:\n",
    "    print(f\"{string1} and {string2} are not equal.\")\n",
    "\n",
    "if string1 < string2:\n",
    "    print(f\"{string1} comes before {string2} in lexicographical order.\")\n",
    "elif string1 > string2:\n",
    "    print(f\"{string1} comes after {string2} in lexicographical order.\")\n",
    "\n",
    "if string1.lower() == string2.lower():\n",
    "    print(f\"{string1} and {string2} are equal when case is ignored.\")\n",
    "else:\n",
    "    print(f\"{string1} and {string2} are not equal when case is ignored.\")"
   ]
  },
  {
   "cell_type": "code",
   "execution_count": 8,
   "metadata": {},
   "outputs": [
    {
     "name": "stdout",
     "output_type": "stream",
     "text": [
      "x is less than y and y is less than z.\n",
      "Either x is less than y or y is greater than z.\n",
      "x is not greater than y.\n"
     ]
    }
   ],
   "source": [
    "x = 10\n",
    "y = 20\n",
    "z = 30\n",
    "\n",
    "if x < y and y < z:\n",
    "    print(\"x is less than y and y is less than z.\")\n",
    "if x < y or y > z:\n",
    "    print(\"Either x is less than y or y is greater than z.\")\n",
    "if not (x > y):\n",
    "    print(\"x is not greater than y.\")"
   ]
  },
  {
   "cell_type": "code",
   "execution_count": 14,
   "metadata": {},
   "outputs": [
    {
     "name": "stdout",
     "output_type": "stream",
     "text": [
      "True\n",
      "False\n",
      "False\n",
      "True\n",
      "True\n"
     ]
    }
   ],
   "source": [
    "a = [1, 2, 3]\n",
    "b = a\n",
    "\n",
    "c = [1, 2, 3]\n",
    "d = [1, 2, 3]\n",
    "\n",
    "print(a is b)\n",
    "print(a is c)\n",
    "print(c is d)\n",
    "print(a == c)\n",
    "print(c == d)"
   ]
  },
  {
   "cell_type": "code",
   "execution_count": 15,
   "metadata": {},
   "outputs": [
    {
     "name": "stdout",
     "output_type": "stream",
     "text": [
      "True\n",
      "False\n",
      "True\n",
      "False\n",
      "True\n",
      "True\n"
     ]
    }
   ],
   "source": [
    "fruits= [\"apple\", \"banana\", \"cherry\"]\n",
    "\n",
    "print(\"banana\" in fruits)\n",
    "print(\"orange\" in fruits)\n",
    "print(\"grape\" not in fruits)\n",
    "print(\"apple\" not in fruits)\n",
    "\n",
    "sentence = \"The quick brown fox jumps over the lazy dog.\"\n",
    "print(\"fox\" in sentence)\n",
    "print(\"cat\" not in sentence)"
   ]
  },
  {
   "cell_type": "code",
   "execution_count": 40,
   "metadata": {},
   "outputs": [
    {
     "name": "stdout",
     "output_type": "stream",
     "text": [
      "The gross pay is $600.00.\n"
     ]
    }
   ],
   "source": [
    "num_hr_work = float(input(\"Enter the number of hours worked: \"))\n",
    "pay_rate = float(input(\"Enter the hourly pay rate: \"))\n",
    "if num_hr_work <= 40:\n",
    "    gross = num_hr_work * pay_rate\n",
    "else:\n",
    "    ot = (num_hr_work - 40) * pay_rate * 1.5\n",
    "    gross = 40 * pay_rate + ot\n",
    "print(f\"The gross pay is ${gross:.2f}.\")"
   ]
  },
  {
   "cell_type": "code",
   "execution_count": 41,
   "metadata": {},
   "outputs": [
    {
     "name": "stdout",
     "output_type": "stream",
     "text": [
      "Please select operation -\n",
      "1. Add\n",
      "2. Subtract\n",
      "3. Multiply\n",
      "4. Devide\n",
      "Can not calculated.\n"
     ]
    }
   ],
   "source": [
    "print(\n",
    "    \"\"\"Please select operation -\n",
    "1. Add\n",
    "2. Subtract\n",
    "3. Multiply\n",
    "4. Devide\n",
    "\"\"\",\n",
    "    end=\"\",\n",
    ")\n",
    "option = input(\"Select operations from 1, 2, 3, 4 : \")\n",
    "num1 = float(input(\"Enter first number : \"))\n",
    "num2 = float(input(\"Enter second number : \"))\n",
    "error = False\n",
    "match option:\n",
    "    case \"1\":\n",
    "        operator = \"+\"\n",
    "        result = num1 + num2\n",
    "    case \"2\":\n",
    "        operator = \"-\"\n",
    "        result = num1 - num2\n",
    "    case \"3\":\n",
    "        operator = \"*\"\n",
    "        result = num1 * num2\n",
    "    case \"4\":\n",
    "        operator = \"/\"\n",
    "        result = num1 / num2\n",
    "    case _:\n",
    "        error = True\n",
    "        print(\"Can not calculated.\")\n",
    "if not error:\n",
    "    print(f\"{num1} {operator} {num2} = {result:.2f}\")"
   ]
  }
 ],
 "metadata": {
  "kernelspec": {
   "display_name": ".venv",
   "language": "python",
   "name": "python3"
  },
  "language_info": {
   "codemirror_mode": {
    "name": "ipython",
    "version": 3
   },
   "file_extension": ".py",
   "mimetype": "text/x-python",
   "name": "python",
   "nbconvert_exporter": "python",
   "pygments_lexer": "ipython3",
   "version": "3.12.4"
  }
 },
 "nbformat": 4,
 "nbformat_minor": 2
}
