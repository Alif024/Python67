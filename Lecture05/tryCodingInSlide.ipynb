{
 "cells": [
  {
   "cell_type": "code",
   "execution_count": 4,
   "metadata": {},
   "outputs": [
    {
     "name": "stdout",
     "output_type": "stream",
     "text": [
      "Hello, World!\n"
     ]
    }
   ],
   "source": [
    "def greet():\n",
    "    print(\"Hello, World!\")\n",
    "\n",
    "greet()"
   ]
  },
  {
   "cell_type": "code",
   "execution_count": 6,
   "metadata": {},
   "outputs": [
    {
     "name": "stdout",
     "output_type": "stream",
     "text": [
      "I have a message for you.\n",
      "I am Arthur\n",
      "King of the Britons\n",
      "Goodbye!\n"
     ]
    }
   ],
   "source": [
    "def message():\n",
    "    print('I am Arthur')\n",
    "    print('King of the Britons')\n",
    "\n",
    "print('I have a message for you.')\n",
    "message()\n",
    "print('Goodbye!')"
   ]
  },
  {
   "cell_type": "code",
   "execution_count": 9,
   "metadata": {},
   "outputs": [
    {
     "name": "stdout",
     "output_type": "stream",
     "text": [
      "Hello, Alice!\n"
     ]
    }
   ],
   "source": [
    "def greet(name):\n",
    "    print(f'Hello, {name}!')\n",
    "\n",
    "greet(\"Alice\")"
   ]
  },
  {
   "cell_type": "code",
   "execution_count": 10,
   "metadata": {},
   "outputs": [
    {
     "name": "stdout",
     "output_type": "stream",
     "text": [
      "8\n"
     ]
    }
   ],
   "source": [
    "def add(a, b):\n",
    "    return a + b\n",
    "\n",
    "result = add(3, 5)\n",
    "print(result)"
   ]
  },
  {
   "cell_type": "code",
   "execution_count": 11,
   "metadata": {},
   "outputs": [
    {
     "name": "stdout",
     "output_type": "stream",
     "text": [
      "Hello, 2!\n"
     ]
    }
   ],
   "source": [
    "def greet(name=\"World\"):\n",
    "    print(f'Hello, {name}!')\n",
    "\n",
    "greet(\"Alice\")"
   ]
  },
  {
   "cell_type": "code",
   "execution_count": 24,
   "metadata": {},
   "outputs": [
    {
     "name": "stdout",
     "output_type": "stream",
     "text": [
      "15\n"
     ]
    }
   ],
   "source": [
    "def sum_all(*args):\n",
    "    return sum(args)\n",
    "\n",
    "print(sum_all(1,2,3,5,4))"
   ]
  },
  {
   "cell_type": "code",
   "execution_count": 31,
   "metadata": {},
   "outputs": [
    {
     "name": "stdout",
     "output_type": "stream",
     "text": [
      "1+2+3+5+4=15\n"
     ]
    }
   ],
   "source": [
    "def sum_all(*args):\n",
    "    count = 0\n",
    "    for arg in args:\n",
    "        count += 1\n",
    "        if len(args) == count:\n",
    "            print(arg, end=\"=\")\n",
    "        else:\n",
    "            print(arg, end=\"+\")\n",
    "    return sum(args)\n",
    "\n",
    "print(sum_all(1,2,3,5,4))"
   ]
  },
  {
   "cell_type": "code",
   "execution_count": 33,
   "metadata": {},
   "outputs": [
    {
     "name": "stdout",
     "output_type": "stream",
     "text": [
      "The maximum value is: 8\n"
     ]
    }
   ],
   "source": [
    "def find_max(*args):\n",
    "    if not args:\n",
    "        return None\n",
    "    max_value = args[0]\n",
    "    for number in args:\n",
    "        if number > max_value:\n",
    "            max_value = number\n",
    "    return max_value\n",
    "\n",
    "result = find_max(3,5,7,2,8)\n",
    "print(f\"The maximum value is: {result}\")"
   ]
  },
  {
   "cell_type": "code",
   "execution_count": 42,
   "metadata": {},
   "outputs": [
    {
     "name": "stdout",
     "output_type": "stream",
     "text": [
      "Argument 1: Python\n",
      "Argument 2: 3.8\n",
      "Argument 3: True\n",
      "Argument 4: [1, 2, 3]\n",
      "Argument 5: {'key': 'value'}\n",
      "<class 'tuple'>\n"
     ]
    }
   ],
   "source": [
    "def print_all(*args):\n",
    "    for index, arg in enumerate(args):\n",
    "        print(f\"Argument {index + 1}: {arg}\")\n",
    "    print(type(args))\n",
    "\n",
    "print_all(\"Python\", 3.8, True, [1, 2, 3], {\"key\": \"value\"})"
   ]
  },
  {
   "cell_type": "code",
   "execution_count": 43,
   "metadata": {},
   "outputs": [
    {
     "name": "stdout",
     "output_type": "stream",
     "text": [
      "name: Alice\n",
      "age: 30\n",
      "city: New York\n",
      "<class 'dict'>\n"
     ]
    }
   ],
   "source": [
    "def display_info(**kwargs):\n",
    "    for key, value in kwargs.items():\n",
    "        print(f\"{key}: {value}\")\n",
    "    print(type(kwargs))\n",
    "\n",
    "display_info(name=\"Alice\", age=30, city=\"New York\")"
   ]
  },
  {
   "cell_type": "code",
   "execution_count": 41,
   "metadata": {},
   "outputs": [
    {
     "name": "stdout",
     "output_type": "stream",
     "text": [
      "Total Sum: 75\n",
      "Average: 15.0\n",
      "Maximum: 25\n",
      "Minimum: 5\n"
     ]
    }
   ],
   "source": [
    "def calculate_stats(numbers):\n",
    "    total_sum = sum(numbers)\n",
    "    average = total_sum / len(numbers)\n",
    "    maximum = max(numbers)\n",
    "    minimum = min(numbers)\n",
    "    return total_sum, average, maximum, minimum\n",
    "\n",
    "numbers = [5, 10, 15, 20, 25]\n",
    "total, avg, max_num, min_num = calculate_stats(numbers)\n",
    "\n",
    "print(f\"Total Sum: {total}\")\n",
    "print(f\"Average: {avg}\")\n",
    "print(f\"Maximum: {max_num}\")\n",
    "print(f\"Minimum: {min_num}\")"
   ]
  },
  {
   "cell_type": "code",
   "execution_count": 87,
   "metadata": {},
   "outputs": [
    {
     "name": "stdout",
     "output_type": "stream",
     "text": [
      "True\n"
     ]
    }
   ],
   "source": [
    "def is_armstrong(input_num):\n",
    "    str_nums = str(input_num)\n",
    "    total_num = 0\n",
    "    for str_num in str_nums:\n",
    "        total_num += int(str_num) ** (len(str_nums))\n",
    "    if total_num == input_num:\n",
    "        return True\n",
    "    else:\n",
    "        return False\n",
    "\n",
    "print(is_armstrong(153))"
   ]
  },
  {
   "cell_type": "code",
   "execution_count": null,
   "metadata": {},
   "outputs": [],
   "source": [
    "def is_armstrong(input_num):\n",
    "    str_nums = str(input_num)\n",
    "    list_num = []\n",
    "    for str_num in str_nums:\n",
    "        list_num.append(int(str_num) ** (len(str_nums)))\n",
    "    if sum(list_num) == input_num:\n",
    "        result = True\n",
    "    else:\n",
    "        result = False\n",
    "    if result:\n",
    "        str_result = f\"{result} ({sum(list_num)} = \"\n",
    "        for num in range(len(str_nums)):\n",
    "            if num != len(str_nums) - 1:\n",
    "                str_result += f\"{str_nums[num]}^{len(str_nums)} + \"\n",
    "            else:\n",
    "                str_result += f\"{str_nums[num]}^{len(str_nums)})\"\n",
    "        return str_result, result\n",
    "    else:\n",
    "        str_result = f\"False ({input_num} is not an Armstrong number)\"\n",
    "        return str_result, result\n",
    "    \n",
    "for i in range(1, 100000):\n",
    "    x, y = is_armstrong(i)\n",
    "    if y:\n",
    "        print(x)"
   ]
  },
  {
   "cell_type": "code",
   "execution_count": 79,
   "metadata": {},
   "outputs": [
    {
     "name": "stdout",
     "output_type": "stream",
     "text": [
      "I'm inside the function\n"
     ]
    }
   ],
   "source": [
    "def my_function():\n",
    "    local_variable = \"I'm inside the function\"\n",
    "    print(local_variable)\n",
    "\n",
    "my_function()\n",
    "# print(local_variable)"
   ]
  },
  {
   "cell_type": "code",
   "execution_count": 83,
   "metadata": {},
   "outputs": [
    {
     "name": "stdout",
     "output_type": "stream",
     "text": [
      "I'm outside the function\n",
      "I'm outside the function\n"
     ]
    }
   ],
   "source": [
    "global_variable = \"I'm outside the function\"\n",
    "\n",
    "def my_function():\n",
    "    print(global_variable)\n",
    "\n",
    "my_function()\n",
    "print(global_variable)"
   ]
  },
  {
   "cell_type": "code",
   "execution_count": 84,
   "metadata": {},
   "outputs": [
    {
     "name": "stdout",
     "output_type": "stream",
     "text": [
      "Tails\n",
      "Heads\n",
      "Heads\n",
      "Heads\n",
      "Tails\n",
      "Heads\n",
      "Tails\n",
      "Tails\n",
      "Heads\n",
      "Heads\n"
     ]
    }
   ],
   "source": [
    "import random\n",
    "\n",
    "HEADS = 1\n",
    "TAILS = 2\n",
    "TOSSES = 10\n",
    "\n",
    "def tosses_coin():\n",
    "    for toss in range(TOSSES):\n",
    "        if random.randint(HEADS, TAILS) == HEADS:\n",
    "            print('Heads')\n",
    "        else:\n",
    "            print('Tails')\n",
    "\n",
    "tosses_coin()"
   ]
  },
  {
   "cell_type": "code",
   "execution_count": 85,
   "metadata": {},
   "outputs": [
    {
     "name": "stdout",
     "output_type": "stream",
     "text": [
      "2\n"
     ]
    }
   ],
   "source": [
    "counter = 0\n",
    "\n",
    "def increment():\n",
    "    global counter\n",
    "    counter += 1\n",
    "\n",
    "increment()\n",
    "increment()\n",
    "print(counter)"
   ]
  },
  {
   "cell_type": "code",
   "execution_count": 90,
   "metadata": {},
   "outputs": [
    {
     "name": "stdout",
     "output_type": "stream",
     "text": [
      "5\n",
      "4\n",
      "3\n",
      "2\n",
      "1\n",
      "0\n",
      "120\n"
     ]
    }
   ],
   "source": [
    "def factorial(n):\n",
    "    print(n)\n",
    "    if n == 0:\n",
    "        return 1\n",
    "    else:\n",
    "        return n * factorial(n - 1)\n",
    "\n",
    "print(factorial(5))"
   ]
  },
  {
   "cell_type": "code",
   "execution_count": 95,
   "metadata": {},
   "outputs": [
    {
     "name": "stdout",
     "output_type": "stream",
     "text": [
      "34\n"
     ]
    }
   ],
   "source": [
    "def fibonacci(n):\n",
    "    if n == 0:\n",
    "        return 0\n",
    "    elif n == 1:\n",
    "        return 1\n",
    "    else:\n",
    "        return fibonacci(n - 1) + fibonacci(n - 2)\n",
    "\n",
    "print(fibonacci(9))"
   ]
  }
 ],
 "metadata": {
  "kernelspec": {
   "display_name": ".venv",
   "language": "python",
   "name": "python3"
  },
  "language_info": {
   "codemirror_mode": {
    "name": "ipython",
    "version": 3
   },
   "file_extension": ".py",
   "mimetype": "text/x-python",
   "name": "python",
   "nbconvert_exporter": "python",
   "pygments_lexer": "ipython3",
   "version": "3.12.4"
  }
 },
 "nbformat": 4,
 "nbformat_minor": 2
}
