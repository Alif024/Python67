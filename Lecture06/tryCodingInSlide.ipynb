{
 "cells": [
  {
   "cell_type": "markdown",
   "metadata": {},
   "source": [
    "<a id='top'></a>\n",
    "[Delete apple on middle list](#delete-apple-on-middle-list) <br>\n",
    "[Find index of dog on list](#find-position-dog) <br>\n",
    "[Sorted 2 dimention list](#sorted-2-dimention-list) <br>"
   ]
  },
  {
   "cell_type": "code",
   "execution_count": 1,
   "metadata": {},
   "outputs": [
    {
     "name": "stdout",
     "output_type": "stream",
     "text": [
      "apple\n",
      "banana\n",
      "cherry\n"
     ]
    }
   ],
   "source": [
    "fruits = [\"apple\", \"banana\", \"cherry\"]\n",
    "\n",
    "print(fruits[0])\n",
    "print(fruits[1])\n",
    "print(fruits[2])"
   ]
  },
  {
   "cell_type": "code",
   "execution_count": 2,
   "metadata": {},
   "outputs": [
    {
     "name": "stdout",
     "output_type": "stream",
     "text": [
      "Fruits after apped: ['apple', 'banana', 'cherry', 'mango', 'pineapple']\n"
     ]
    }
   ],
   "source": [
    "fruits = [\"apple\", \"banana\", \"cherry\"]\n",
    "more_fruits = [\"mango\", \"pineapple\"]\n",
    "for fruit in more_fruits:\n",
    "    fruits.append(fruit)\n",
    "print(f\"Fruits after apped: {fruits}\")"
   ]
  },
  {
   "cell_type": "code",
   "execution_count": 4,
   "metadata": {},
   "outputs": [
    {
     "name": "stdout",
     "output_type": "stream",
     "text": [
      "['apple', 'banana', 'cherry', 'mango', 'pineapple']\n"
     ]
    }
   ],
   "source": [
    "fruits = [\"apple\", \"banana\", \"cherry\"]\n",
    "more_fruits = [\"mango\", \"pineapple\"]\n",
    "print(fruits + more_fruits)"
   ]
  },
  {
   "cell_type": "code",
   "execution_count": 6,
   "metadata": {},
   "outputs": [
    {
     "name": "stdout",
     "output_type": "stream",
     "text": [
      "Berries after insert: ['raspberry', 'strawberyy', 'blueberry', 'blackberyy']\n"
     ]
    }
   ],
   "source": [
    "berries = [\"raspberry\", \"blackberyy\"]\n",
    "berries.insert(1, \"strawberyy\")\n",
    "berries.insert(2, \"blueberry\")\n",
    "print(f\"Berries after insert: {berries}\")"
   ]
  },
  {
   "cell_type": "code",
   "execution_count": 9,
   "metadata": {},
   "outputs": [
    {
     "name": "stdout",
     "output_type": "stream",
     "text": [
      "Fruits after remove: ['banana', 'cherry', 'kiwi']\n"
     ]
    }
   ],
   "source": [
    "fruits_with_duplicates = [\"apple\", \"banana\", \"apple\", \"cherry\", \"apple\", \"kiwi\"]\n",
    "while \"apple\" in fruits_with_duplicates:\n",
    "    fruits_with_duplicates.remove(\"apple\")\n",
    "# fruits_with_duplicates.remove(\"apple\")\n",
    "print(f\"Fruits after remove: {fruits_with_duplicates}\")"
   ]
  },
  {
   "cell_type": "markdown",
   "metadata": {},
   "source": [
    "<a id='delete-apple-on-middle-list'>\n",
    "Delete apple on middle list\n",
    "</a>"
   ]
  },
  {
   "cell_type": "markdown",
   "metadata": {},
   "source": [
    "<a id='delete-apple-on-middle-list'>\n",
    "Delete apple on middle list\n",
    "</a> <br>\n",
    "\n",
    "[Go top](#top)"
   ]
  },
  {
   "cell_type": "code",
   "execution_count": 16,
   "metadata": {},
   "outputs": [
    {
     "name": "stdout",
     "output_type": "stream",
     "text": [
      "['apple', 'banana', 'cherry', 'apple', 'kiwi']\n"
     ]
    }
   ],
   "source": [
    "fruits_with_duplicates = [\"apple\", \"banana\", \"apple\", \"cherry\", \"apple\", \"kiwi\"]\n",
    "count_apple = fruits_with_duplicates.count(\"apple\")\n",
    "for i in range(count_apple - 1):\n",
    "    fruits_with_duplicates.remove(\"apple\")\n",
    "fruits_with_duplicates.insert(0, \"apple\")\n",
    "print(fruits_with_duplicates)"
   ]
  },
  {
   "cell_type": "code",
   "execution_count": 17,
   "metadata": {},
   "outputs": [
    {
     "name": "stdout",
     "output_type": "stream",
     "text": [
      "Grades after pop: [85, 90, 92, 88, 78]\n"
     ]
    }
   ],
   "source": [
    "grades = [85, 90, 78, 92, 88]\n",
    "third_grade = grades.pop(2)\n",
    "grades.append(third_grade)\n",
    "print(f\"Grades after pop: {grades}\")"
   ]
  },
  {
   "cell_type": "code",
   "execution_count": 18,
   "metadata": {},
   "outputs": [
    {
     "name": "stdout",
     "output_type": "stream",
     "text": [
      "Grades after pop: [85, 90, 78, 92, 88]\n"
     ]
    }
   ],
   "source": [
    "grades = [85, 90, 78, 92, 88]\n",
    "third_grade = grades.pop()\n",
    "grades.append(third_grade)\n",
    "print(f\"Grades after pop: {grades}\")"
   ]
  },
  {
   "cell_type": "code",
   "execution_count": 26,
   "metadata": {},
   "outputs": [
    {
     "name": "stdout",
     "output_type": "stream",
     "text": [
      "The first occurence of 'dog' is at index: 1\n",
      "The second occurence of 'dog' is at index: 4\n"
     ]
    },
    {
     "ename": "ValueError",
     "evalue": "'dog' is not in list",
     "output_type": "error",
     "traceback": [
      "\u001b[1;31m---------------------------------------------------------------------------\u001b[0m",
      "\u001b[1;31mValueError\u001b[0m                                Traceback (most recent call last)",
      "Cell \u001b[1;32mIn[26], line 8\u001b[0m\n\u001b[0;32m      5\u001b[0m second_dog_index \u001b[38;5;241m=\u001b[39m animal\u001b[38;5;241m.\u001b[39mindex(\u001b[38;5;124m\"\u001b[39m\u001b[38;5;124mdog\u001b[39m\u001b[38;5;124m\"\u001b[39m, first_dog_index \u001b[38;5;241m+\u001b[39m \u001b[38;5;241m1\u001b[39m)\n\u001b[0;32m      6\u001b[0m \u001b[38;5;28mprint\u001b[39m(\u001b[38;5;124mf\u001b[39m\u001b[38;5;124m\"\u001b[39m\u001b[38;5;124mThe second occurence of \u001b[39m\u001b[38;5;124m'\u001b[39m\u001b[38;5;124mdog\u001b[39m\u001b[38;5;124m'\u001b[39m\u001b[38;5;124m is at index: \u001b[39m\u001b[38;5;132;01m{\u001b[39;00msecond_dog_index\u001b[38;5;132;01m}\u001b[39;00m\u001b[38;5;124m\"\u001b[39m)\n\u001b[1;32m----> 8\u001b[0m third_dog_index \u001b[38;5;241m=\u001b[39m \u001b[43manimal\u001b[49m\u001b[38;5;241;43m.\u001b[39;49m\u001b[43mindex\u001b[49m\u001b[43m(\u001b[49m\u001b[38;5;124;43m\"\u001b[39;49m\u001b[38;5;124;43mdog\u001b[39;49m\u001b[38;5;124;43m\"\u001b[39;49m\u001b[43m,\u001b[49m\u001b[43m \u001b[49m\u001b[43msecond_dog_index\u001b[49m\u001b[43m \u001b[49m\u001b[38;5;241;43m+\u001b[39;49m\u001b[43m \u001b[49m\u001b[38;5;241;43m1\u001b[39;49m\u001b[43m)\u001b[49m\n\u001b[0;32m      9\u001b[0m \u001b[38;5;28mprint\u001b[39m(\u001b[38;5;124mf\u001b[39m\u001b[38;5;124m\"\u001b[39m\u001b[38;5;124mThe second occurence of \u001b[39m\u001b[38;5;124m'\u001b[39m\u001b[38;5;124mdog\u001b[39m\u001b[38;5;124m'\u001b[39m\u001b[38;5;124m is at index: \u001b[39m\u001b[38;5;132;01m{\u001b[39;00mthird_dog_index\u001b[38;5;132;01m}\u001b[39;00m\u001b[38;5;124m\"\u001b[39m)\n",
      "\u001b[1;31mValueError\u001b[0m: 'dog' is not in list"
     ]
    }
   ],
   "source": [
    "animal = [\"cat\", \"dog\", \"rabbit\", \"hamster\", \"dog\", \"parrot\"]\n",
    "first_dog_index = animal.index(\"dog\")\n",
    "print(f\"The first occurrence of 'dog' is at index: {first_dog_index}\")\n",
    "\n",
    "second_dog_index = animal.index(\"dog\", first_dog_index + 1)\n",
    "print(f\"The second occurrence of 'dog' is at index: {second_dog_index}\")\n",
    "\n",
    "third_dog_index = animal.index(\"dog\", second_dog_index + 1)\n",
    "print(f\"The second occurrence of 'dog' is at index: {third_dog_index}\")"
   ]
  },
  {
   "cell_type": "markdown",
   "metadata": {},
   "source": [
    "<a id='find-position-dog'>\n",
    "Find position dog on list\n",
    "</a>\n",
    "\n",
    "[Go top](#top)"
   ]
  },
  {
   "cell_type": "code",
   "execution_count": 53,
   "metadata": {},
   "outputs": [
    {
     "name": "stdout",
     "output_type": "stream",
     "text": [
      "The number 1 'dog' on the list is at index: 0\n",
      "The number 2 'dog' on the list is at index: 2\n",
      "The number 3 'dog' on the list is at index: 5\n",
      "The number 4 'dog' on the list is at index: 9\n",
      "The number 5 'dog' on the list is at index: 13\n"
     ]
    }
   ],
   "source": [
    "animal = [\n",
    "    \"dog\",\n",
    "    \"cat\",\n",
    "    \"dog\",\n",
    "    \"rabbit\",\n",
    "    \"hamster\",\n",
    "    \"dog\",\n",
    "    \"parrot\",\n",
    "    \"rabbit\",\n",
    "    \"hamster\",\n",
    "    \"dog\",\n",
    "    \"parrot\",\n",
    "    \"rabbit\",\n",
    "    \"hamster\",\n",
    "    \"dog\",\n",
    "    \"parrot\",\n",
    "]\n",
    "count_dog = animal.count(\"dog\")\n",
    "current_count_dog = 0\n",
    "dog_index = 0\n",
    "while 1:\n",
    "    if current_count_dog == count_dog:\n",
    "        break\n",
    "    if dog_index == 0:\n",
    "        dog_index = animal.index(\"dog\")\n",
    "        print(f\"The number {current_count_dog+1} 'dog' on the list is at index: {dog_index}\")\n",
    "        dog_index += 1\n",
    "    else:\n",
    "        dog_index = animal.index(\"dog\", dog_index + 1)\n",
    "        print(f\"The number {current_count_dog+1} 'dog' on the list is at index: {dog_index}\")\n",
    "    current_count_dog += 1"
   ]
  },
  {
   "cell_type": "code",
   "execution_count": 27,
   "metadata": {},
   "outputs": [
    {
     "name": "stdout",
     "output_type": "stream",
     "text": [
      "Nested list after clear: [[], [], []]\n"
     ]
    }
   ],
   "source": [
    "nested_list = [[1, 2, 3], [4, 5, 6], [7, 8, 9]]\n",
    "for sublist in nested_list:\n",
    "    sublist.clear()\n",
    "print(f\"Nested list after clear: {nested_list}\")"
   ]
  },
  {
   "cell_type": "code",
   "execution_count": 36,
   "metadata": {},
   "outputs": [
    {
     "name": "stdout",
     "output_type": "stream",
     "text": [
      "Nested list after clear: [[1, 3], [4, 6], [7, 9]]\n"
     ]
    }
   ],
   "source": [
    "nested_list = [[1, 2, 3], [4, 5, 6], [7, 8, 9]]\n",
    "for sublist in nested_list:\n",
    "    sublist.pop(1)\n",
    "print(f\"Nested list after clear: {nested_list}\")"
   ]
  },
  {
   "cell_type": "markdown",
   "metadata": {},
   "source": [
    "<a id='sorted-2-dimention-list'>\n",
    "Sorted 2 dimention list\n",
    "</a> \n",
    "\n",
    "[Go top](#top)"
   ]
  },
  {
   "cell_type": "code",
   "execution_count": 39,
   "metadata": {},
   "outputs": [
    {
     "name": "stdout",
     "output_type": "stream",
     "text": [
      "Nested list after clear: [[9, 8, 7], [6, 5, 4], [3, 2, 1]]\n"
     ]
    }
   ],
   "source": [
    "nested_list = [[1, 2, 3], [4, 5, 6], [7, 8, 9]]\n",
    "for sublist in nested_list:\n",
    "    sublist.reverse()\n",
    "nested_list.reverse()\n",
    "print(f\"Nested list after clear: {nested_list}\")"
   ]
  },
  {
   "cell_type": "code",
   "execution_count": 44,
   "metadata": {},
   "outputs": [
    {
     "name": "stdout",
     "output_type": "stream",
     "text": [
      "2\n",
      "['Dr. Strange', 'Ironman', 'Cpt. America', 'Thor', 'Hulk', 'Superman', 'Spiderman']\n",
      "['Dr. Strange', 'Ironman', 'Cpt. America', 'Thor', 'Hulk', 'Spiderman', 'Ant Man']\n",
      "['Ant Man', 'Cpt. America', 'Dr. Strange', 'Hulk', 'Ironman', 'Spiderman', 'Thor']\n",
      "['Thor', 'Spiderman', 'Ironman', 'Hulk', 'Dr. Strange', 'Cpt. America', 'Ant Man']\n",
      "['Wonder Women', 'Spiderman', 'Ironman', 'Hulk', 'Dr. Strange', 'Cpt. America', 'Ant Man']\n",
      "['Wonder Women', 'Spiderman', 'Ironman', 'Hulk', 'Dr. Strange', 'Cpt. America', 'Ant Man']\n",
      "['Wonder Women', 'Spiderman', 'Ironman', 'Hulk', 'Dr. Strange', 'Cpt. America', 'Ant Man']\n",
      "['Hanuman', 'Spiderman', 'Ironman', 'Hulk', 'Dr. Strange', 'Cpt. America', 'Ant Man']\n"
     ]
    }
   ],
   "source": [
    "heroes = ['Ironman', 'Thor', 'Hulk', 'Superman', 'Spiderman']\n",
    "h2 = ['Dr. Strange', 'Cpt. America', 'Black Panther', 'Ant Man']\n",
    "\n",
    "heroes.insert(0, h2[0])\n",
    "print(heroes.index('Thor'))\n",
    "heroes.insert(heroes.index('Thor'), h2[1])\n",
    "print(heroes)\n",
    "heroes.remove('Superman')\n",
    "heroes.append('Ant Man')\n",
    "print(heroes)\n",
    "heroes.sort()\n",
    "print(heroes)\n",
    "heroes.reverse()\n",
    "print(heroes)\n",
    "newheroes = heroes\n",
    "newheroes[0] = 'Wonder Women'\n",
    "print(heroes)\n",
    "copyheroes = [] + heroes\n",
    "print(copyheroes)\n",
    "copyheroes[0] = \"Hanuman\"\n",
    "print(heroes)\n",
    "print(copyheroes)"
   ]
  },
  {
   "cell_type": "code",
   "execution_count": 49,
   "metadata": {},
   "outputs": [
    {
     "name": "stdout",
     "output_type": "stream",
     "text": [
      "Sliced data: [10, 15, 20, 25, 30, 35, 40, 45, 50]\n"
     ]
    }
   ],
   "source": [
    "data = list(range(100))\n",
    "slice_data = data[10:51:5]\n",
    "print(f\"Sliced data: {slice_data}\")"
   ]
  },
  {
   "cell_type": "code",
   "execution_count": 52,
   "metadata": {},
   "outputs": [
    {
     "name": "stdout",
     "output_type": "stream",
     "text": [
      "y\n",
      "Shark\n",
      "Sammy\n",
      "hark!\n",
      "ark\n",
      "Shark\n",
      "Shark\n",
      "SmySak\n",
      "Sya\n",
      "Sya\n",
      "!krahS ymmaS\n",
      "!rh ma\n"
     ]
    }
   ],
   "source": [
    "ss = \"Sammy Shark!\"\n",
    "print(ss[4])\n",
    "print(ss[6:11])\n",
    "print(ss[:5])\n",
    "print(ss[7:])\n",
    "print(ss[-4:-1])\n",
    "print(ss[6:11])\n",
    "print(ss[6:11:1])\n",
    "print(ss[0:12:2])\n",
    "print(ss[0:12:4])\n",
    "print(ss[::4])\n",
    "print(ss[::-1])\n",
    "print(ss[::-2])"
   ]
  },
  {
   "cell_type": "code",
   "execution_count": 54,
   "metadata": {},
   "outputs": [
    {
     "name": "stdout",
     "output_type": "stream",
     "text": [
      "[6, 7, 8, 9, 10]\n",
      "[1, 2, 3, 4, 5, 6, 7, 8, 99, 10]\n",
      "['Ironman', 'Thor', 'Hulk', 'Spiderman', 2, 4, 6, 8, 10]\n",
      "10\n"
     ]
    }
   ],
   "source": [
    "even_number = [2, 4, 6, 8, 10]\n",
    "heroes = ['Ironman', 'Thor', 'Hulk', 'Spiderman']\n",
    "numbers = [1,2,3,4,5,6,7,8,9,10]\n",
    "print(numbers[-5:])\n",
    "numbers[8] = 99\n",
    "print(numbers)\n",
    "pluslist = heroes + even_number\n",
    "print(pluslist)\n",
    "print(len(numbers))"
   ]
  },
  {
   "cell_type": "code",
   "execution_count": 56,
   "metadata": {},
   "outputs": [
    {
     "name": "stdout",
     "output_type": "stream",
     "text": [
      "Length of the list: 6\n",
      "Sum of all elements: 27\n",
      "Maximum value: 9\n",
      "Minimun value: 1\n",
      "Sorted list: [1, 2, 4, 5, 6, 9]\n",
      "Is any element True? True\n",
      "Are all element True? False\n",
      "List of charecters: ['h', 'e', 'l', 'l', 'o']\n",
      "Reversed list: [6, 5, 1, 9, 2, 4]\n",
      "Enumerate list: [(0, 4), (1, 2), (2, 9), (3, 1), (4, 5), (5, 6)]\n"
     ]
    }
   ],
   "source": [
    "numbers = [4, 2, 9, 1, 5, 6]\n",
    "length = len(numbers)\n",
    "print(f\"Length of the list: {length}\")\n",
    "\n",
    "total_sum = sum(numbers)\n",
    "print(f\"Sum of all elements: {total_sum}\")\n",
    "\n",
    "max_value = max(numbers)\n",
    "print(f\"Maximum value: {max_value}\")\n",
    "\n",
    "min_value = min(numbers)\n",
    "print(f\"Minimun value: {min_value}\")\n",
    "\n",
    "sorted_numbers = sorted(numbers)\n",
    "print(f\"Sorted list: {sorted_numbers}\")\n",
    "\n",
    "bool_list = [False, True, False]\n",
    "any_true = any(bool_list)\n",
    "print(f\"Is any element True? {any_true}\")\n",
    "\n",
    "all_true = all(bool_list)\n",
    "print(f\"Are all element True? {all_true}\")\n",
    "\n",
    "string = \"hello\"\n",
    "char_list =list(string)\n",
    "print(f\"List of charecters: {char_list}\")\n",
    "\n",
    "reversed_numbers = list(reversed(numbers))\n",
    "print(f\"Reversed list: {reversed_numbers}\")\n",
    "\n",
    "enumerate_numbers = list(enumerate(numbers))\n",
    "print(f\"Enumerate list: {enumerate_numbers}\")"
   ]
  },
  {
   "cell_type": "code",
   "execution_count": 58,
   "metadata": {},
   "outputs": [
    {
     "name": "stdout",
     "output_type": "stream",
     "text": [
      "Enter the hours worked by employee 1: Enter the hours worked by employee 2: Enter the hours worked by employee 3: Enter the hours worked by employee 4: Enter the hours worked by employee 5: Enter the hours worked by employee 6: Gross pay for employee 1: $247,200.00\n",
      "Gross pay for employee 2: $3,120,900.00\n",
      "Gross pay for employee 3: $8,114,340.00\n",
      "Gross pay for employee 4: $3,157,980.00\n",
      "Gross pay for employee 5: $80,903,616.00\n",
      "Gross pay for employee 6: $27,192.00\n"
     ]
    }
   ],
   "source": [
    "NUM_EMPLOYEES = 6\n",
    "\n",
    "def main():\n",
    "    hours = [0] * NUM_EMPLOYEES\n",
    "\n",
    "    for index in range(NUM_EMPLOYEES):\n",
    "        print('Enter the hours worked by employee ', index + 1, ': ', sep='', end='')\n",
    "        hours[index] = float(input())\n",
    "\n",
    "    pay_rate = float(input('Enter the hourly pay rate: '))\n",
    "\n",
    "    for index in range(NUM_EMPLOYEES):\n",
    "        gross_pay = hours[index]* pay_rate\n",
    "        print('Gross pay for employee ', index + 1, ': $', format(gross_pay, ',.2f'), sep='')\n",
    "\n",
    "main()"
   ]
  },
  {
   "cell_type": "code",
   "execution_count": 62,
   "metadata": {},
   "outputs": [
    {
     "name": "stdout",
     "output_type": "stream",
     "text": [
      "[[1, 10, 3], [4, 5, 6], [7, 8, 9]]\n",
      "1 10 3 \n",
      "4 5 6 \n",
      "7 8 9 \n"
     ]
    }
   ],
   "source": [
    "matrix = [\n",
    "    [1,2,3],\n",
    "    [4,5,6],\n",
    "    [7,8,9]\n",
    "]\n",
    "\n",
    "matrix[0][1] = 10\n",
    "print(matrix)\n",
    "\n",
    "for row in matrix:\n",
    "    for element in row:\n",
    "        print(element, end=\" \")\n",
    "    print()"
   ]
  },
  {
   "cell_type": "code",
   "execution_count": 63,
   "metadata": {},
   "outputs": [
    {
     "name": "stdout",
     "output_type": "stream",
     "text": [
      "[[97, 52, 56, 58], [33, 52, 52, 18], [4, 44, 94, 74]]\n"
     ]
    }
   ],
   "source": [
    "import random\n",
    "\n",
    "ROWS = 3\n",
    "COLS = 4\n",
    "\n",
    "def main():\n",
    "    values = [\n",
    "        [0,0,0,0],\n",
    "        [0,0,0,0],\n",
    "        [0,0,0,0],\n",
    "    ]\n",
    "\n",
    "    for r in range(ROWS):\n",
    "        for c in range(COLS):\n",
    "            values[r][c] = random.randint(1, 100)\n",
    "\n",
    "    print(values)\n",
    "\n",
    "main()"
   ]
  },
  {
   "cell_type": "code",
   "execution_count": 69,
   "metadata": {},
   "outputs": [
    {
     "name": "stdout",
     "output_type": "stream",
     "text": [
      "(1, 2, 3, 4)\n"
     ]
    },
    {
     "ename": "ValueError",
     "evalue": "too many values to unpack (expected 3)",
     "output_type": "error",
     "traceback": [
      "\u001b[1;31m---------------------------------------------------------------------------\u001b[0m",
      "\u001b[1;31mValueError\u001b[0m                                Traceback (most recent call last)",
      "Cell \u001b[1;32mIn[69], line 4\u001b[0m\n\u001b[0;32m      1\u001b[0m my_tuple \u001b[38;5;241m=\u001b[39m \u001b[38;5;241m1\u001b[39m, \u001b[38;5;241m2\u001b[39m, \u001b[38;5;241m3\u001b[39m, \u001b[38;5;241m4\u001b[39m\n\u001b[0;32m      2\u001b[0m \u001b[38;5;28mprint\u001b[39m(my_tuple)\n\u001b[1;32m----> 4\u001b[0m a, b, c \u001b[38;5;241m=\u001b[39m my_tuple\n\u001b[0;32m      5\u001b[0m \u001b[38;5;28mprint\u001b[39m(a)\n\u001b[0;32m      6\u001b[0m \u001b[38;5;28mprint\u001b[39m(b)\n",
      "\u001b[1;31mValueError\u001b[0m: too many values to unpack (expected 3)"
     ]
    }
   ],
   "source": [
    "my_tuple = 1, 2, 3, 4\n",
    "print(my_tuple)\n",
    "\n",
    "a, b, c = my_tuple\n",
    "print(a)\n",
    "print(b)\n",
    "print(c)"
   ]
  },
  {
   "cell_type": "markdown",
   "metadata": {},
   "source": []
  },
  {
   "cell_type": "code",
   "execution_count": 91,
   "metadata": {},
   "outputs": [
    {
     "name": "stdout",
     "output_type": "stream",
     "text": [
      "163.5\n"
     ]
    }
   ],
   "source": [
    "inventory = [\n",
    "    [\"Apple\", 50, 0.75],\n",
    "    [\"Banana\", 100, 0.5],\n",
    "    [\"Orange\", 75, 0.8],\n",
    "    [\"Coconut\", 20, 0.8],\n",
    "]\n",
    "\n",
    "def display(inventory):\n",
    "    for items in inventory:\n",
    "        print(items)\n",
    "\n",
    "def update_inventory(inventory, item_name, quantity_sold):\n",
    "    for items in inventory:\n",
    "        if item_name in items:\n",
    "            items[1] = items[1] - quantity_sold\n",
    "\n",
    "def calculate_total_value(inventory):\n",
    "    # sum_val = 0\n",
    "    # for items in inventory:\n",
    "    #     sum_val += items[1]*items[2]\n",
    "    # return sum_val\n",
    "    return sum([items[1]*items[2] for items in inventory])\n",
    "\n",
    "def find_most_expensive(inventory):\n",
    "    value_expensive = max([item_price[2] for item_price in inventory])\n",
    "    # for item in inventory:\n",
    "    #     if item[2] == value_expensive:\n",
    "    #         expensive_list.append(item[0])\n",
<<<<<<< HEAD
    "    return [items[0] for items in inventory if items[2] == value_expensive]\n",
=======
    "    expensive_list = [items[0] for items in inventory if items[2] == value_expensive]\n",
    "    return expensive_list\n",
>>>>>>> 9a117c92b126328aafb036f320152ec21960a9f5
    "\n",
    "def add_item(inventory, item_name, quantity, price):\n",
    "    find = False\n",
    "    for items in inventory:\n",
    "        if item_name in items:\n",
    "            items[1] = quantity\n",
    "            items[2] = price\n",
    "            find = True\n",
    "    if not find:\n",
    "        inventory.append([item_name, quantity, price])\n",
    "\n",
    "# update_inventory(inventory, \"Apple\", 30)\n",
    "\n",
    "print(calculate_total_value(inventory))\n",
    "\n",
    "# print(find_most_expensive(inventory))\n",
    "\n",
    "# add_item(inventory, \"Banana\", 50, 0.46)\n",
    "# add_item(inventory, \"Rasberry\", 65, 0.76)\n",
    "\n",
    "# display(inventory)"
   ]
  }
 ],
 "metadata": {
  "kernelspec": {
   "display_name": ".venv",
   "language": "python",
   "name": "python3"
  },
  "language_info": {
   "codemirror_mode": {
    "name": "ipython",
    "version": 3
   },
   "file_extension": ".py",
   "mimetype": "text/x-python",
   "name": "python",
   "nbconvert_exporter": "python",
   "pygments_lexer": "ipython3",
   "version": "3.12.4"
  }
 },
 "nbformat": 4,
 "nbformat_minor": 2
}
