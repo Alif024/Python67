{
 "cells": [
  {
   "cell_type": "code",
   "execution_count": 1,
   "metadata": {},
   "outputs": [
    {
     "name": "stdout",
     "output_type": "stream",
     "text": [
      "{'apple', 'banana', 'cherry'}\n",
      "{1, 2, 3, 4}\n"
     ]
    }
   ],
   "source": [
    "fruits = {\"apple\", \"banana\", \"cherry\", \"apple\"}\n",
    "print(fruits)\n",
    "\n",
    "numbers = set([1, 2, 3, 1, 2, 4])\n",
    "print(numbers)"
   ]
  },
  {
   "cell_type": "code",
   "execution_count": 4,
   "metadata": {},
   "outputs": [
    {
     "name": "stdout",
     "output_type": "stream",
     "text": [
      "{'orange', 'apple', 'banana', 'cherry'}\n",
      "{'orange', 'apple', 'cherry'}\n",
      "{'orange', 'apple', 'cherry'}\n",
      "orange\n",
      "{'apple', 'cherry'}\n",
      "set()\n"
     ]
    }
   ],
   "source": [
    "fruits = {\"apple\", \"banana\", \"cherry\"}\n",
    "\n",
    "fruits.add(\"orange\")\n",
    "print(fruits)\n",
    "\n",
    "fruits.remove(\"banana\")\n",
    "print(fruits)\n",
    "\n",
    "fruits.discard(\"grape\")\n",
    "print(fruits)\n",
    "\n",
    "remove_item = fruits.pop()\n",
    "print(remove_item)\n",
    "print(fruits)\n",
    "\n",
    "fruits.clear()\n",
    "print(fruits)"
   ]
  },
  {
   "cell_type": "code",
   "execution_count": 5,
   "metadata": {},
   "outputs": [
    {
     "name": "stdout",
     "output_type": "stream",
     "text": [
      "{1, 2, 3, 4, 5}\n",
      "{3}\n",
      "{1, 2}\n",
      "{1, 2, 4, 5}\n"
     ]
    }
   ],
   "source": [
    "set1 = {1, 2, 3}\n",
    "set2 = {3, 4, 5}\n",
    "\n",
    "print(set1.union(set2))\n",
    "print(set1.intersection(set2))\n",
    "print(set1.difference(set2))\n",
    "print(set1.symmetric_difference(set2))"
   ]
  },
  {
   "cell_type": "code",
   "execution_count": 6,
   "metadata": {},
   "outputs": [
    {
     "name": "stdout",
     "output_type": "stream",
     "text": [
      "Union {1, 2, 3, 4, 5, 6}\n",
      "Intersection {3, 4}\n",
      "Difference {1, 2}\n",
      "Symmetric Difference {1, 2, 5, 6}\n"
     ]
    }
   ],
   "source": [
    "set1 = {1, 2, 3, 4}\n",
    "set2 = {3, 4, 5, 6}\n",
    "\n",
    "union_set = set1 | set2\n",
    "print(\"Union\", union_set)\n",
    "\n",
    "intersection_set = set1 & set2\n",
    "print(\"Intersection\", intersection_set)\n",
    "\n",
    "difference_set = set1 - set2\n",
    "print(\"Difference\", difference_set)\n",
    "\n",
    "sym_diff_set = set1 ^ set2\n",
    "print(\"Symmetric Difference\", sym_diff_set)"
   ]
  },
  {
   "cell_type": "code",
   "execution_count": 7,
   "metadata": {},
   "outputs": [
    {
     "name": "stdout",
     "output_type": "stream",
     "text": [
      "{1, 2, 3, 4, 5, 6, 7, 8, 9, 10}\n",
      "10\n",
      "{6, 7, 8, 9, 10, 'B', 'A', 'D', 'C'}\n",
      "{8, 6, 7}\n",
      "{1, 2, 3, 4, 5, 9, 10, 'B', 'A', 'D', 'C'}\n",
      "{6, 7, 8, 9, 'A', 'D', 'C'}\n",
      "None\n",
      "1\n",
      "2\n",
      "3\n",
      "4\n",
      "5\n",
      "6\n",
      "7\n",
      "8\n",
      "9\n",
      "10\n"
     ]
    }
   ],
   "source": [
    "setA = {1, 2, 3, 4}\n",
    "setB = set([8, 9, 10])\n",
    "\n",
    "setA.add(5)\n",
    "setB.update([6, 7])\n",
    "Uset = setA | setB\n",
    "print(Uset)\n",
    "print(len(Uset))\n",
    "\n",
    "setB.update(\"ABCD\")\n",
    "setA.update([6, 7, 8])\n",
    "print(setB)\n",
    "\n",
    "print(setA.intersection(setB))\n",
    "print(setA ^ setB)\n",
    "\n",
    "setB.remove(\"B\")\n",
    "setB.discard(10)\n",
    "print(setB)\n",
    "print(setA.clear())\n",
    "for val in Uset:\n",
    "    print(val)"
   ]
  },
  {
   "cell_type": "code",
   "execution_count": 8,
   "metadata": {},
   "outputs": [
    {
     "name": "stdout",
     "output_type": "stream",
     "text": [
      "[1, 2, 3, 4, 5, 6]\n"
     ]
    }
   ],
   "source": [
    "def remove_duplicates(lst):\n",
    "    return list(set(lst))\n",
    "\n",
    "\n",
    "numbers = [1, 2, 3, 1, 2, 4, 5, 6, 5, 4, 3]\n",
    "print(remove_duplicates(numbers))"
   ]
  },
  {
   "cell_type": "code",
   "execution_count": 13,
   "metadata": {},
   "outputs": [
    {
     "name": "stdout",
     "output_type": "stream",
     "text": [
      "[{'Alice', 'Charlie', 'Bob', 'David'}, {'Alice', 'Charlie', 'David'}, {'Alice', 'Bob', 'David'}, {'Alice', 'Eve', 'David'}, {'Charlie', 'Bob', 'David'}]\n",
      "Present every day: {'David'}\n",
      "Absent at least one day: {'Alice', 'Charlie', 'Eve', 'Bob'}\n",
      "First day but not last: ['Alice']\n",
      "Total unique students: 5\n"
     ]
    }
   ],
   "source": [
    "attendance_week = [\n",
    "    [\"Alice\", \"Bob\", \"Charlie\", \"David\"],\n",
    "    [\"Alice\", \"Charlie\", \"David\"],\n",
    "    [\"Alice\", \"Bob\", \"David\"],\n",
    "    [\"Alice\", \"David\", \"Eve\"],\n",
    "    [\"Bob\", \"Charlie\", \"David\"],\n",
    "]\n",
    "\n",
    "attendance_sets = [set(day) for day in attendance_week]\n",
    "print(attendance_sets)\n",
    "\n",
    "present_every_day = set.intersection(*attendance_sets)\n",
    "print(\"Present every day:\", present_every_day)\n",
    "\n",
    "all_students = set.union(*attendance_sets)\n",
    "absent_at_least_one_day = all_students - present_every_day\n",
    "print(\"Absent at least one day:\", absent_at_least_one_day)\n",
    "\n",
    "first_day_present = attendance_sets[0]\n",
    "last_day_present = attendance_sets[-1]\n",
    "first_day_but_not_last = list(first_day_present - last_day_present)\n",
    "print(\"First day but not last:\", first_day_but_not_last)\n",
    "\n",
    "unique_students_count = len(all_students)\n",
    "print(\"Total unique students:\", unique_students_count)"
   ]
  },
  {
   "cell_type": "code",
   "execution_count": 74,
   "metadata": {},
   "outputs": [
    {
     "name": "stdout",
     "output_type": "stream",
     "text": [
      "[{'Python', 'JavaScript', 'C++'}, {'Python', 'JavaScript', 'C#'}, {'Python', 'Java'}, {'Python', 'JavaScript', 'C++'}, {'Python', 'JavaScript', 'C++', 'Java'}]\n",
      "Languages chosen by all participants: {'Python'}\n",
      "Languages chosen by only one participant: {'C#'}\n",
      "number of unique language: 5\n",
      "Languages chosen by exactly two participants: {'Java'}\n",
      "Participants with identical choices: [(1, 4)]\n"
     ]
    }
   ],
   "source": [
    "survey_result = [\n",
    "    [\"Python\", \"JavaScript\", \"C++\"],\n",
    "    [\"Python\", \"JavaScript\", \"C#\"],\n",
    "    [\"Python\", \"Java\"],\n",
    "    [\"Python\", \"C++\", \"JavaScript\"],\n",
    "    [\"Python\", \"JavaScript\", \"C++\", \"Java\"],\n",
    "]\n",
    "\n",
    "merge_participants = []\n",
    "for participant in survey_result:\n",
    "    merge_participants += participant\n",
    "unique_language = set.union(*[set(participant) \n",
    "                              for participant in survey_result])\n",
    "\n",
    "choices_sets = [set(participant) for participant in survey_result]\n",
    "print(choices_sets)\n",
    "\n",
    "common_languages = set.intersection(*choices_sets)\n",
    "print(\"Languages chosen by all participants:\", common_languages)\n",
    "\n",
    "only_one_diff_languages = set([])\n",
    "for language in unique_language:\n",
    "    if merge_participants.count(language) == 1:\n",
    "        only_one_diff_languages.add(language)\n",
    "print(\"Languages chosen by only one participant:\", only_one_diff_languages)\n",
    "\n",
    "print(\"number of unique language:\", len(unique_language))\n",
    "\n",
    "same_participant_can_write_two_languages = set([])\n",
    "for language in unique_language:\n",
    "    if merge_participants.count(language) == 2:\n",
    "        same_participant_can_write_two_languages.add(language)\n",
    "print(\n",
    "    \"Languages chosen by exactly two participants:\",\n",
    "    same_participant_can_write_two_languages,\n",
    ")\n",
    "\n",
    "set_identical_language = set([])\n",
    "for i in range(len(choices_sets)):\n",
    "    for j in range(len(choices_sets) - 1, i, -1):\n",
    "        if choices_sets[i] == choices_sets[j]:\n",
    "            set_identical_language.add((i + 1, j + 1))\n",
    "print(\"Participants with identical choices:\", list(set_identical_language))"
   ]
  },
  {
   "cell_type": "code",
   "execution_count": 33,
   "metadata": {},
   "outputs": [
    {
     "name": "stdout",
     "output_type": "stream",
     "text": [
      "{'name': 'Alice', 'age': 25, 'grade': 'A'}\n",
      "{'name': 'Alice', 'age': 25, 'grade': 'A'}\n"
     ]
    }
   ],
   "source": [
    "student = dict(name=\"Alice\", age=25, grade=\"A\")\n",
    "print(student)\n",
    "\n",
    "student = dict([(\"name\", \"Alice\"), (\"age\", 25), (\"grade\", \"A\")])\n",
    "print(student)"
   ]
  },
  {
   "cell_type": "code",
   "execution_count": 31,
   "metadata": {},
   "outputs": [
    {
     "name": "stdout",
     "output_type": "stream",
     "text": [
      "{'name': 'Alice', 'age': 25, 'grade': 'A'}\n"
     ]
    }
   ],
   "source": [
    "student = {}\n",
    "\n",
    "student[\"name\"] = \"Alice\"\n",
    "student[\"age\"] = 25\n",
    "student[\"grade\"] = \"A\"\n",
    "print(student)"
   ]
  },
  {
   "cell_type": "code",
   "execution_count": 32,
   "metadata": {},
   "outputs": [
    {
     "name": "stdout",
     "output_type": "stream",
     "text": [
      "Alice\n",
      "25\n",
      "A\n"
     ]
    }
   ],
   "source": [
    "student = {\"name\": \"Alice\", \"age\": 25, \"grade\": \"A\"}\n",
    "print(student[\"name\"])\n",
    "print(student[\"age\"])\n",
    "print(student[\"grade\"])"
   ]
  },
  {
   "cell_type": "code",
   "execution_count": 34,
   "metadata": {},
   "outputs": [
    {
     "name": "stdout",
     "output_type": "stream",
     "text": [
      "{'Anirach': '777-1111', 'Mickey': '777-2222', 'Donald': '777-3333'}\n",
      "777-2222\n",
      "777-3333\n",
      "Plutonot in phonebook\n",
      "{'Anirach': '777-1111', 'Mickey': '777-2122', 'Donald': '777-3333', 'Simpson': '777-4567', 'Pluto': '777-4444'}\n",
      "{'Anirach': '777-1111', 'Mickey': '777-2122', 'Donald': '777-3333', 'Pluto': '777-4444'}\n"
     ]
    }
   ],
   "source": [
    "phonebook = {\"Anirach\": \"777-1111\", \"Mickey\": \"777-2222\", \n",
    "             \"Donald\": \"777-3333\"}\n",
    "\n",
    "print(phonebook)\n",
    "\n",
    "print(phonebook[\"Mickey\"])\n",
    "print(phonebook.get(\"Donald\"))\n",
    "\n",
    "key = \"Pluto\"\n",
    "if key in phonebook:\n",
    "    print(phonebook[\"Pluto\"])\n",
    "else:\n",
    "    print(key + \"not in phonebook\")\n",
    "\n",
    "phonebook[\"Simpson\"] = \"777-4567\"\n",
    "phonebook[\"Pluto\"] = \"777-4444\"\n",
    "phonebook[\"Mickey\"] = \"777-2122\"\n",
    "print(phonebook)\n",
    "\n",
    "del phonebook[\"Simpson\"]\n",
    "print(phonebook)"
   ]
  },
  {
   "cell_type": "code",
   "execution_count": 37,
   "metadata": {},
   "outputs": [
    {
     "name": "stdout",
     "output_type": "stream",
     "text": [
      "name: Alice\n",
      "age: 25\n",
      "grade: A\n",
      "major: Computer Science\n"
     ]
    }
   ],
   "source": [
    "student = {\"name\": \"Alice\", \"age\": 25, \"grade\": \"A\", \n",
    "           \"major\": \"Computer Science\"}\n",
    "\n",
    "for key in student:\n",
    "    print(f\"{key}: {student[key]}\")"
   ]
  },
  {
   "cell_type": "code",
   "execution_count": 38,
   "metadata": {},
   "outputs": [
    {
     "name": "stdout",
     "output_type": "stream",
     "text": [
      "Alice\n",
      "25\n",
      "A\n",
      "Computer Science\n"
     ]
    }
   ],
   "source": [
    "student = {\"name\": \"Alice\", \"age\": 25, \"grade\": \"A\",\n",
    "            \"major\": \"Computer Science\"}\n",
    "\n",
    "for value in student.values():\n",
    "    print(value)"
   ]
  },
  {
   "cell_type": "code",
   "execution_count": 40,
   "metadata": {},
   "outputs": [
    {
     "name": "stdout",
     "output_type": "stream",
     "text": [
      "name: Alice\n",
      "age: 25\n",
      "grade: A\n",
      "major: Computer Science\n"
     ]
    }
   ],
   "source": [
    "student = {\"name\": \"Alice\", \"age\": 25, \"grade\": \"A\",\n",
    "            \"major\": \"Computer Science\"}\n",
    "\n",
    "for key, value in student.items():\n",
    "    print(f\"{key}: {value}\")"
   ]
  },
  {
   "cell_type": "code",
   "execution_count": 41,
   "metadata": {},
   "outputs": [
    {
     "name": "stdout",
     "output_type": "stream",
     "text": [
      "{'name': 'Alice', 'age': 26, 'grade': 'A', 'major': 'Computer Science'}\n",
      "{'name': 'Alice', 'age': 26, 'major': 'Computer Science'}\n",
      "Computer Science\n",
      "{'name': 'Alice', 'age': 26}\n"
     ]
    }
   ],
   "source": [
    "student = {\"name\": \"Alice\", \"age\": 25, \"grade\": \"A\"}\n",
    "\n",
    "student[\"age\"] = 26\n",
    "student[\"major\"] = \"Computer Science\"\n",
    "print(student)\n",
    "\n",
    "del student[\"grade\"]\n",
    "print(student)\n",
    "\n",
    "remove_major = student.pop(\"major\")\n",
    "print(remove_major)\n",
    "print(student)"
   ]
  },
  {
   "cell_type": "code",
   "execution_count": 42,
   "metadata": {},
   "outputs": [
    {
     "name": "stdout",
     "output_type": "stream",
     "text": [
      "There are  4  names in phonebook\n",
      "Anirach phone number is:  777-1111\n",
      "Mickey phone number is:  777-2222\n",
      "Donald phone number is:  777-3333\n",
      "Bart phone number is:  [1, 3, 5]\n",
      "{'Anirach': '777-1111', 'Mickey': '777-2222', 'Donald': '777-3333', 'Bart': [1, 9, 5]}\n"
     ]
    }
   ],
   "source": [
    "phonebook = {\"Anirach\": \"777-1111\", \"Mickey\": \"777-2222\",\n",
    "              \"Donald\": \"777-3333\"}\n",
    "\n",
    "phonebook[\"Bart\"] = [1, 3, 5]\n",
    "\n",
    "elements = len(phonebook)\n",
    "print(\"There are \", elements, \" names in phonebook\")\n",
    "\n",
    "for key in phonebook:\n",
    "    print(key, \"phone number is: \", phonebook[key])\n",
    "\n",
    "phonebook[\"Bart\"][1] = 9\n",
    "print(phonebook)"
   ]
  },
  {
   "cell_type": "code",
   "execution_count": 52,
   "metadata": {},
   "outputs": [
    {
     "name": "stdout",
     "output_type": "stream",
     "text": [
      "dict_keys(['name', 'age', 'grade', 'major'])\n",
      "dict_values(['Alice', 25, 'A', 'Computer Science'])\n",
      "dict_items([('name', 'Alice'), ('age', 25), ('grade', 'A'), ('major', 'Computer Science')])\n",
      "Alice\n",
      "A\n",
      "Computer Science\n",
      "{'name': 'Alice', 'age': 25, 'grade': 'A'}\n",
      "('grade', 'A')\n",
      "{'name': 'Alice', 'age': 25}\n",
      "{}\n"
     ]
    }
   ],
   "source": [
    "student = {\"name\": \"Alice\", \"age\": 25, \"grade\": \"A\",\n",
    "            \"major\": \"Computer Science\"}\n",
    "print(student.keys())\n",
    "print(student.values())\n",
    "print(student.items())\n",
    "print(student.get(\"name\"))\n",
    "print(student.get(\"grade\", \"Not Found\"))\n",
    "major = student.pop(\"major\")\n",
    "print(major)\n",
    "print(student)\n",
    "last_item = student.popitem()\n",
    "print(last_item)\n",
    "print(student)\n",
    "student.clear()\n",
    "print(student)"
   ]
  },
  {
   "cell_type": "code",
   "execution_count": 65,
   "metadata": {},
   "outputs": [
    {
     "name": "stdout",
     "output_type": "stream",
     "text": [
      "Key not found\n",
      "888-1111\n",
      "Anirach 777-1111\n",
      "Mickey 777-2222\n",
      "Donald 777-3333\n",
      "Pluto 777-4444\n",
      "dict_keys(['Anirach', 'Mickey', 'Donald', 'Pluto'])\n",
      "dict_values(['777-1111', '777-2222', '777-3333', '777-4444'])\n",
      "Element not found\n",
      "777-2222\n",
      "{'Anirach': '777-1111', 'Donald': '777-3333', 'Pluto': '777-4444'}\n",
      "('Pluto', '777-4444')\n",
      "{'Anirach': '777-1111', 'Donald': '777-3333'}\n",
      "After clear\n",
      "{}\n"
     ]
    }
   ],
   "source": [
    "phonebook = {\n",
    "    \"Anirach\": \"777-1111\",\n",
    "    \"Mickey\": \"777-2222\",\n",
    "    \"Donald\": \"777-3333\",\n",
    "    \"Pluto\": \"777-4444\",\n",
    "}\n",
    "\n",
    "heroesdict = {}\n",
    "heroesdict[\"Hulk\"] = \"888-1111\"\n",
    "heroesdict[\"Iron Man\"] = \"888-2222\"\n",
    "print(heroesdict.get(\"Halk\", \"Key not found\"))\n",
    "print(heroesdict.get(\"Hulk\", \"Key not found\"))\n",
    "\n",
    "for key, value in phonebook.items():\n",
    "    print(key, value)\n",
    "\n",
    "print(phonebook.keys())\n",
    "print(phonebook.values())\n",
    "\n",
    "print(phonebook.pop(\"Mick\", \"Element not found\"))\n",
    "print(phonebook.pop(\"Mickey\", \"Element not found\"))\n",
    "print(phonebook)\n",
    "print(phonebook.popitem())\n",
    "print(phonebook)\n",
    "phonebook.clear()\n",
    "print(\"After clear\")\n",
    "print(phonebook)"
   ]
  },
  {
   "cell_type": "code",
   "execution_count": 12,
   "metadata": {},
   "outputs": [
    {
     "name": "stdout",
     "output_type": "stream",
     "text": [
      "Summary Report:\n",
      "Department: Sales\n",
      "  Alice: Average Score = 85.75\n",
      "  Alex: Average Score = 85.75\n",
      "  Bob: Average Score = 75.75\n",
      "  Charlie: Average Score = 66.75\n",
      "Top Performer: Alice, Alex with Average score = 73.0\n",
      "Department: Engineering\n",
      "  David: Average Score = 92.75\n",
      "  Eve: Average Score = 87.5\n",
      "  Frank: Average Score = 86.5\n",
      "Top Performer: David with Average score = 73.0\n",
      "Department: HR\n",
      "  Grace: Average Score = 73.0\n",
      "  Heidi: Average Score = 69.0\n",
      "  Ivan: Average Score = 63.0\n",
      "Top Performer: Grace with Average score = 73.0\n",
      "\n",
      "Best Department: Engineering with Average score = 88.92\n"
     ]
    }
   ],
   "source": [
    "performance_data = {\n",
    "    \"Sales\": {\n",
    "        \"Alice\": [80, 85, 88, 90],\n",
    "        \"Alex\": [80, 85, 88, 90],\n",
    "        \"Bob\": [70, 75, 78, 80],\n",
    "        \"Charlie\": [60, 65, 70, 72],\n",
    "    },\n",
    "    \"Engineering\": {\n",
    "        \"David\": [90, 92, 94, 95],\n",
    "        \"Eve\": [85, 88, 87, 90],\n",
    "        \"Frank\": [88, 87, 86, 85],\n",
    "    },\n",
    "    \"HR\": {\n",
    "        \"Grace\": [70, 72, 74, 76],\n",
    "        \"Heidi\": [65, 68, 70, 73],\n",
    "        \"Ivan\": [60, 62, 64, 66],\n",
    "    },\n",
    "}\n",
    "average_scores = {}\n",
    "for department, employees in performance_data.items():\n",
    "    average_scores[department] = {}\n",
    "    for employee, scores in employees.items():\n",
    "        average = sum(scores) / len(scores)\n",
    "        average_scores[department][employee] = average\n",
    "# print(average_scores)\n",
    "\n",
    "for department in average_scores.keys():\n",
    "    department_scores_list = []\n",
    "    # print(department)\n",
    "    for scores in average_scores[department].values():\n",
    "        # print(scores)\n",
    "        department_scores_list.append(scores)\n",
    "    average_score = sum(department_scores_list)/len(department_scores_list)\n",
    "    average_scores[department][\"average_scores\"] = average_score\n",
    "\n",
    "for department in average_scores.keys():\n",
    "    department_scores_list = []\n",
    "    # print(department)\n",
    "    for scores in average_scores[department].values():\n",
    "        # print(scores)\n",
    "        department_scores_list.append(scores)\n",
    "    max_score = max(department_scores_list)\n",
    "    best_member = []\n",
    "    for member, value in list(average_scores[department].items()):\n",
    "        if value == max_score:\n",
    "            best_member.append(member)\n",
    "    average_scores[department][\"top_performer\"] = [max_score]\n",
    "    average_scores[department][\"top_performer\"].extend(best_member)\n",
    "# print(average_scores)\n",
    "\n",
    "list_top_department = []\n",
    "for department, values in list(average_scores.items()):\n",
    "    # print(values[\"average_scores\"])\n",
    "    list_top_department.append(values[\"average_scores\"])\n",
    "max_department_score = max(list_top_department)\n",
    "# print(max_department_score)\n",
    "\n",
    "top_department = []\n",
    "for department, values in list(average_scores.items()):\n",
    "    if values[\"average_scores\"] == max_department_score:\n",
    "        top_department.append(department)\n",
    "average_scores['top_department'] = top_department\n",
    "# print(average_scores)\n",
    "\n",
    "print(\"Summary Report:\")\n",
    "for key, values in average_scores.items():\n",
    "    if key not in [\"top_department\", \"average_scores\", \"top_performer\"]:\n",
    "        print(f\"Department: {key}\")\n",
    "        for member in values.keys():\n",
    "            if member not in [\"top_department\", \"average_scores\",\n",
    "                               \"top_performer\"]:\n",
    "                print(f\"  {member}: Average Score = \",end=\"\")\n",
    "                print(f\"{average_scores[key][member]}\")\n",
    "        # print(average_scores)\n",
    "        str_members = \"\"\n",
    "        # print(average_scores[key][\"top_performer\"][1:])\n",
    "        for top_perfomer in average_scores[key][\"top_performer\"][1:]:\n",
    "            if str_members == \"\":\n",
    "                str_members = top_perfomer\n",
    "            else:\n",
    "                str_members += \", \" + top_perfomer\n",
    "        print(f\"Top Performer: {str_members} with Average score = \",end=\"\")\n",
    "        print(f\"{average_scores[department]['top_performer'][0]}\")\n",
    "        \n",
    "# print(average_scores[\"top_department\"])\n",
    "str_department = \"\"\n",
    "for department in average_scores[\"top_department\"]:\n",
    "    if str_department == \"\":\n",
    "        str_department = department\n",
    "    else:\n",
    "        str_department += \", \" + department\n",
    "\n",
    "list_best_department = []\n",
    "for department, value in average_scores.items():\n",
    "    if department not in [\"top_department\"]:\n",
    "        list_best_department.append(value[\"average_scores\"])\n",
    "\n",
    "max_best_department = max(list_best_department)\n",
    "best_department = \"\"\n",
    "for department, value in average_scores.items():\n",
    "    # print(value)\n",
    "    if department not in [\"top_department\", \"average_scores\",\n",
    "                           \"top_performer\"]: \n",
    "        if value[\"average_scores\"] == max_best_department:\n",
    "            if best_department == \"\":\n",
    "                best_department = department\n",
    "            else:\n",
    "                best_department += \", \" + department\n",
    "print()\n",
    "print(f\"Best Department: {best_department} with Average score = \",end=\"\") \n",
    "print(f\"{max_best_department:.2f}\")"
   ]
  }
 ],
 "metadata": {
  "kernelspec": {
   "display_name": ".venv",
   "language": "python",
   "name": "python3"
  },
  "language_info": {
   "codemirror_mode": {
    "name": "ipython",
    "version": 3
   },
   "file_extension": ".py",
   "mimetype": "text/x-python",
   "name": "python",
   "nbconvert_exporter": "python",
   "pygments_lexer": "ipython3",
   "version": "3.10.14"
  }
 },
 "nbformat": 4,
 "nbformat_minor": 2
}
