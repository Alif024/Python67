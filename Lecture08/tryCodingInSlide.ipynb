{
 "cells": [
  {
   "cell_type": "code",
   "execution_count": 12,
   "metadata": {},
   "outputs": [],
   "source": [
    "def main():\n",
    "    outfile = open(\"philosophers.txt\", \"w\")  # a, w\n",
    "    outfile.write(\"John Locke\\n\")\n",
    "    outfile.write(\"David Hume\\n\")\n",
    "    outfile.write(\"Edmund Burke\\n\")\n",
    "    outfile.close()\n",
    "\n",
    "\n",
    "main()"
   ]
  },
  {
   "cell_type": "code",
   "execution_count": 14,
   "metadata": {},
   "outputs": [
    {
     "name": "stdout",
     "output_type": "stream",
     "text": [
      "John Locke\n",
      "David Hume\n",
      "Edmund Burke\n",
      "Alif Waehayee\n"
     ]
    }
   ],
   "source": [
    "def main():\n",
    "    infile = open(\"philosophers.txt\", \"r\")\n",
    "    file_contents = infile.read()\n",
    "    infile.close()  # close the file before printing the contents\n",
    "    print(file_contents)\n",
    "\n",
    "\n",
    "main()"
   ]
  },
  {
   "cell_type": "code",
   "execution_count": 15,
   "metadata": {},
   "outputs": [
    {
     "name": "stdout",
     "output_type": "stream",
     "text": [
      "John Locke\n",
      "David Hume\n",
      "Edmund Burke\n",
      "Alif Waehayee\n"
     ]
    }
   ],
   "source": [
    "with open(\"philosophers.txt\", \"r\") as file:\n",
    "    contents = file.read()\n",
    "    print(contents)"
   ]
  },
  {
   "cell_type": "code",
   "execution_count": 16,
   "metadata": {},
   "outputs": [],
   "source": [
    "with open(\"philosophers.txt\", \"w\") as file:\n",
    "    file.write(\"Hello, World!\\n\")\n",
    "    file.write(\"This is a new line.\\n\")"
   ]
  },
  {
   "cell_type": "code",
   "execution_count": 17,
   "metadata": {},
   "outputs": [],
   "source": [
    "with open(\"philosophers.txt\", \"a\") as file:\n",
    "    file.write(\"This line is appended.\\n\")"
   ]
  },
  {
   "cell_type": "code",
   "execution_count": 30,
   "metadata": {},
   "outputs": [
    {
     "name": "stdout",
     "output_type": "stream",
     "text": [
      "Hello, World!\n",
      "This is a new line.\n",
      "This line is appended.\n",
      "\n"
     ]
    }
   ],
   "source": [
    "with open(\"philosophers.txt\", \"r\") as file:\n",
    "    contents = file.read()\n",
    "    print(contents)"
   ]
  },
  {
   "cell_type": "code",
   "execution_count": 36,
   "metadata": {},
   "outputs": [
    {
     "name": "stdout",
     "output_type": "stream",
     "text": [
      "Hello, World!\n",
      "This is a new line.\n",
      "This line is appended.\n"
     ]
    }
   ],
   "source": [
    "with open(\"philosophers.txt\", \"r\") as file:\n",
    "    line = file.readline()\n",
    "    while line:\n",
    "        print(line.strip())  # strip() removes \"\\n\" from the end of the line\n",
    "        line = file.readline()"
   ]
  },
  {
   "cell_type": "code",
   "execution_count": 37,
   "metadata": {},
   "outputs": [
    {
     "name": "stdout",
     "output_type": "stream",
     "text": [
      "Hello, World!\n",
      "This is a new line.\n",
      "This line is appended.\n"
     ]
    }
   ],
   "source": [
    "with open(\"philosophers.txt\", \"r\") as file:\n",
    "    lines = file.readlines()\n",
    "    for line in lines:\n",
    "        print(line.strip())"
   ]
  },
  {
   "cell_type": "code",
   "execution_count": 46,
   "metadata": {},
   "outputs": [
    {
     "name": "stdout",
     "output_type": "stream",
     "text": [
      "Data written to sales.txt.\n"
     ]
    }
   ],
   "source": [
    "num_days = int(input(\"For how many days do you have sales? \"))\n",
    "with open(\"sales.txt\", \"w\") as sales_file:\n",
    "    for count in range(1, num_days + 1):\n",
    "        sales = float(input(f\"Enter the sales for day #{count}: \"))\n",
    "        sales_file.write(str(sales) + \"\\n\")\n",
    "\n",
    "print(\"Data written to sales.txt.\")"
   ]
  },
  {
   "cell_type": "code",
   "execution_count": 50,
   "metadata": {},
   "outputs": [
    {
     "name": "stdout",
     "output_type": "stream",
     "text": [
      "10.00\n",
      "20.00\n",
      "30.00\n",
      "40.00\n",
      "50.00\n",
      "Total sales:  150.00\n"
     ]
    }
   ],
   "source": [
    "with open(\"sales.txt\", \"r\") as sales_file:\n",
    "    total = 0\n",
    "    for line in sales_file:\n",
    "        amount = float(line)\n",
    "        total += amount\n",
    "        print(format(amount, \".2f\"))\n",
    "\n",
    "print(\"Total sales: \", format(total, \".2f\"))"
   ]
  },
  {
   "cell_type": "code",
   "execution_count": 48,
   "metadata": {},
   "outputs": [
    {
     "name": "stdout",
     "output_type": "stream",
     "text": [
      "10.00\n",
      "20.00\n",
      "30.00\n",
      "40.00\n",
      "50.00\n"
     ]
    }
   ],
   "source": [
    "with open(\"sales.txt\", \"r\") as sales_file:\n",
    "    line = sales_file.readline()\n",
    "    while line != \"\":\n",
    "        amount = float(line)\n",
    "        print(format(amount, \".2f\"))\n",
    "        line = sales_file.readline()"
   ]
  },
  {
   "cell_type": "code",
   "execution_count": 73,
   "metadata": {},
   "outputs": [
    {
     "name": "stdout",
     "output_type": "stream",
     "text": [
      "Name: Ingrid Virgo\n",
      "ID: 4587\n",
      "Dept: Engineering\n",
      "\n",
      "Name: Julia Rich\n",
      "ID: 4588\n",
      "Dept: Research\n",
      "\n",
      "Name: Greg Young\n",
      "ID: 4589\n",
      "Dept: Marketing\n",
      "\n"
     ]
    }
   ],
   "source": [
    "# Exercise 1\n",
    "with open(\"employees.txt\", \"r\") as file:\n",
    "    lines = file.readlines()\n",
    "    for i in range(0, len(lines), 3):\n",
    "        print(\"Name:\", lines[i].strip())\n",
    "        print(\"ID:\", lines[i+1].strip())\n",
    "        print(\"Dept:\", lines[i+2].strip())\n",
    "        print()"
   ]
  },
  {
   "cell_type": "code",
   "execution_count": 113,
   "metadata": {},
   "outputs": [],
   "source": [
    "import struct\n",
    "\n",
    "record = (1, \"John Doe\", 20, 3.75)\n",
    "with open(\"records.bin\", \"wb\") as file:\n",
    "    data = struct.pack(\n",
    "        \"i20sif\", record[0], record[1].encode(), record[2], record[3])\n",
    "        # string has to be encoded to bytes\n",
    "    file.write(data)"
   ]
  },
  {
   "cell_type": "code",
   "execution_count": null,
   "metadata": {},
   "outputs": [],
   "source": [
    "import struct\n",
    "\n",
    "num_records = int(input(\"How many records do you want to create? \"))\n",
    "with open(\"records.bin\", \"wb\") as file:\n",
    "    for _ in range(num_records):\n",
    "        id_num = int(input(\"Enter ID: \"))\n",
    "        name = input(\"Enter Name: \")\n",
    "        age = int(input(\"Enter Age: \"))\n",
    "        gpa = float(input(\"Enter GPA: \"))\n",
    "        data = struct.pack(\"i20sif\", id_num, name.encode(), age, gpa)\n",
    "        file.write(data)\n",
    "print(f\"{num_records} records have been written to records.bin\")"
   ]
  },
  {
   "cell_type": "code",
   "execution_count": 117,
   "metadata": {},
   "outputs": [
    {
     "name": "stdout",
     "output_type": "stream",
     "text": [
      "ID: 1, Name: John Doe, Age: 20, GPA: 3.75\n"
     ]
    }
   ],
   "source": [
    "import struct\n",
    "with open(\"records.bin\", \"rb\") as file:\n",
    "    data = file.read(struct.calcsize(\"i20sif\"))\n",
    "    record = struct.unpack(\"i20sif\", data)\n",
    "    record = (record[0], record[1].decode().strip(\"\\x00\"), record[2], record[3])\n",
    "    print(f\"ID: {record[0]}, Name: {record[1]}, Age: {record[2]}, GPA: {record[3]}\")"
   ]
  },
  {
   "cell_type": "code",
   "execution_count": 119,
   "metadata": {},
   "outputs": [
    {
     "name": "stdout",
     "output_type": "stream",
     "text": [
      "ID: 1, Name: John Doe, Age: 20, GPA: 3.75\n"
     ]
    }
   ],
   "source": [
    "import struct\n",
    "with open(\"records.bin\", \"rb\") as file:\n",
    "    record_size = struct.calcsize(\"i20sif\")\n",
    "    while True:\n",
    "        data = file.read(record_size)\n",
    "        if not data:\n",
    "            break\n",
    "        record = struct.unpack(\"i20sif\", data)\n",
    "        record = (record[0], record[1].decode().strip(\"\\x00\"), record[2], record[3])\n",
    "        print(f\"ID: {record[0]}, Name: {record[1]}, Age: {record[2]}, GPA: {record[3]}\")"
   ]
  },
  {
   "cell_type": "code",
   "execution_count": 120,
   "metadata": {},
   "outputs": [
    {
     "ename": "error",
     "evalue": "unpack requires a buffer of 24 bytes",
     "output_type": "error",
     "traceback": [
      "\u001b[1;31m---------------------------------------------------------------------------\u001b[0m",
      "\u001b[1;31merror\u001b[0m                                     Traceback (most recent call last)",
      "Cell \u001b[1;32mIn[120], line 9\u001b[0m\n\u001b[0;32m      7\u001b[0m file\u001b[38;5;241m.\u001b[39mseek(record_size\u001b[38;5;241m*\u001b[39m\u001b[38;5;241m2\u001b[39m)    \u001b[38;5;66;03m# move to the third record\u001b[39;00m\n\u001b[0;32m      8\u001b[0m data \u001b[38;5;241m=\u001b[39m file\u001b[38;5;241m.\u001b[39mread(record_size)\n\u001b[1;32m----> 9\u001b[0m record \u001b[38;5;241m=\u001b[39m \u001b[43mstruct\u001b[49m\u001b[38;5;241;43m.\u001b[39;49m\u001b[43munpack\u001b[49m\u001b[43m(\u001b[49m\u001b[43mrecord_format\u001b[49m\u001b[43m,\u001b[49m\u001b[43m \u001b[49m\u001b[43mdata\u001b[49m\u001b[43m)\u001b[49m\n\u001b[0;32m     10\u001b[0m record \u001b[38;5;241m=\u001b[39m (record[\u001b[38;5;241m0\u001b[39m], record[\u001b[38;5;241m1\u001b[39m]\u001b[38;5;241m.\u001b[39mdecode()\u001b[38;5;241m.\u001b[39mstrip(\u001b[38;5;124m\"\u001b[39m\u001b[38;5;130;01m\\x00\u001b[39;00m\u001b[38;5;124m\"\u001b[39m), record[\u001b[38;5;241m2\u001b[39m], record[\u001b[38;5;241m3\u001b[39m])\n\u001b[0;32m     11\u001b[0m \u001b[38;5;28mprint\u001b[39m(\u001b[38;5;124mf\u001b[39m\u001b[38;5;124m\"\u001b[39m\u001b[38;5;124mID: \u001b[39m\u001b[38;5;132;01m{\u001b[39;00mrecord[\u001b[38;5;241m0\u001b[39m]\u001b[38;5;132;01m}\u001b[39;00m\u001b[38;5;124m, Name: \u001b[39m\u001b[38;5;132;01m{\u001b[39;00mrecord[\u001b[38;5;241m1\u001b[39m]\u001b[38;5;132;01m}\u001b[39;00m\u001b[38;5;124m, Age: \u001b[39m\u001b[38;5;132;01m{\u001b[39;00mrecord[\u001b[38;5;241m2\u001b[39m]\u001b[38;5;132;01m}\u001b[39;00m\u001b[38;5;124m, GPA: \u001b[39m\u001b[38;5;132;01m{\u001b[39;00mrecord[\u001b[38;5;241m3\u001b[39m]\u001b[38;5;132;01m}\u001b[39;00m\u001b[38;5;124m\"\u001b[39m)\n",
      "\u001b[1;31merror\u001b[0m: unpack requires a buffer of 24 bytes"
     ]
    }
   ],
   "source": [
    "import struct\n",
    "\n",
    "record_format = 'i20sif'\n",
    "record_size = struct.calcsize(record_format)\n",
    "\n",
    "with open(\"records.bin\", \"rb\") as file:\n",
    "    file.seek(record_size*2)\n",
    "    data = file.read(record_size)\n",
    "    record = struct.unpack(record_format, data)\n",
    "    record = (record[0], record[1].decode().strip(\"\\x00\"), record[2], record[3])\n",
    "    print(f\"ID: {record[0]}, Name: {record[1]}, Age: {record[2]}, GPA: {record[3]}\")"
   ]
  }
 ],
 "metadata": {
  "kernelspec": {
   "display_name": "python312",
   "language": "python",
   "name": "python3"
  },
  "language_info": {
   "codemirror_mode": {
    "name": "ipython",
    "version": 3
   },
   "file_extension": ".py",
   "mimetype": "text/x-python",
   "name": "python",
   "nbconvert_exporter": "python",
   "pygments_lexer": "ipython3",
   "version": "3.12.4"
  }
 },
 "nbformat": 4,
 "nbformat_minor": 2
}
