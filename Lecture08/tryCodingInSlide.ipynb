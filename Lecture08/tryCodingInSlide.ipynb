{
 "cells": [
  {
   "cell_type": "code",
   "execution_count": 16,
   "metadata": {},
   "outputs": [],
   "source": [
    "def main():\n",
    "    outfile = open(\"philosophers.txt\", \"w\")  # a, w\n",
    "    outfile.write(\"John Locke\\n\")\n",
    "    outfile.write(\"David Hume\\n\")\n",
    "    outfile.write(\"Edmund Burke\\n\")\n",
    "    outfile.close()\n",
    "\n",
    "\n",
    "main()"
   ]
  },
  {
   "cell_type": "code",
   "execution_count": 17,
   "metadata": {},
   "outputs": [
    {
     "name": "stdout",
     "output_type": "stream",
     "text": [
      "John Locke\n",
      "David Hume\n",
      "Edmund Burke\n",
      "\n"
     ]
    }
   ],
   "source": [
    "def main():\n",
    "    infile = open(\"philosophers.txt\", \"r\")\n",
    "    file_contents = infile.read()\n",
    "    infile.close()  # close the file before printing the contents\n",
    "    print(file_contents)\n",
    "\n",
    "\n",
    "main()"
   ]
  },
  {
   "cell_type": "code",
   "execution_count": 18,
   "metadata": {},
   "outputs": [
    {
     "name": "stdout",
     "output_type": "stream",
     "text": [
      "John Locke\n",
      "David Hume\n",
      "Edmund Burke\n",
      "\n"
     ]
    }
   ],
   "source": [
    "with open(\"philosophers.txt\", \"r\") as file:\n",
    "    contents = file.read()\n",
    "    print(contents)"
   ]
  },
  {
   "cell_type": "code",
   "execution_count": 19,
   "metadata": {},
   "outputs": [],
   "source": [
    "with open(\"philosophers.txt\", \"w\") as file:\n",
    "    file.write(\"Hello, World!\\n\")\n",
    "    file.write(\"This is a new line.\\n\")"
   ]
  },
  {
   "cell_type": "code",
   "execution_count": 20,
   "metadata": {},
   "outputs": [],
   "source": [
    "with open(\"philosophers.txt\", \"a\") as file:\n",
    "    file.write(\"This line is appended.\\n\")"
   ]
  },
  {
   "cell_type": "code",
   "execution_count": 21,
   "metadata": {},
   "outputs": [
    {
     "name": "stdout",
     "output_type": "stream",
     "text": [
      "Hello, World!\n",
      "This is a new line.\n",
      "This line is appended.\n",
      "\n"
     ]
    }
   ],
   "source": [
    "with open(\"philosophers.txt\", \"r\") as file:\n",
    "    contents = file.read()\n",
    "    print(contents)"
   ]
  },
  {
   "cell_type": "code",
   "execution_count": 22,
   "metadata": {},
   "outputs": [
    {
     "name": "stdout",
     "output_type": "stream",
     "text": [
      "Hello, World!\n",
      "This is a new line.\n",
      "This line is appended.\n"
     ]
    }
   ],
   "source": [
    "with open(\"philosophers.txt\", \"r\") as file:\n",
    "    line = file.readline()\n",
    "    while line:\n",
    "        print(line.strip())  # strip() removes \"\\n\" from the end of the line\n",
    "        line = file.readline()"
   ]
  },
  {
   "cell_type": "code",
   "execution_count": 23,
   "metadata": {},
   "outputs": [
    {
     "name": "stdout",
     "output_type": "stream",
     "text": [
      "Hello, World!\n",
      "This is a new line.\n",
      "This line is appended.\n"
     ]
    }
   ],
   "source": [
    "with open(\"philosophers.txt\", \"r\") as file:\n",
    "    lines = file.readlines()\n",
    "    for line in lines:\n",
    "        print(line.strip())"
   ]
  },
  {
   "cell_type": "code",
   "execution_count": 46,
   "metadata": {},
   "outputs": [
    {
     "name": "stdout",
     "output_type": "stream",
     "text": [
      "Data written to sales.txt.\n"
     ]
    }
   ],
   "source": [
    "num_days = int(input(\"For how many days do you have sales? \"))\n",
    "with open(\"sales.txt\", \"w\") as sales_file:\n",
    "    for count in range(1, num_days + 1):\n",
    "        sales = float(input(f\"Enter the sales for day #{count}: \"))\n",
    "        sales_file.write(str(sales) + \"\\n\")\n",
    "\n",
    "print(\"Data written to sales.txt.\")"
   ]
  },
  {
   "cell_type": "code",
   "execution_count": 24,
   "metadata": {},
   "outputs": [
    {
     "name": "stdout",
     "output_type": "stream",
     "text": [
      "10.00\n",
      "20.00\n",
      "30.00\n",
      "40.00\n",
      "50.00\n",
      "Total sales:  150.00\n"
     ]
    }
   ],
   "source": [
    "with open(\"sales.txt\", \"r\") as sales_file:\n",
    "    total = 0\n",
    "    for line in sales_file:\n",
    "        amount = float(line)\n",
    "        total += amount\n",
    "        print(format(amount, \".2f\"))\n",
    "\n",
    "print(\"Total sales: \", format(total, \".2f\"))"
   ]
  },
  {
   "cell_type": "code",
   "execution_count": 25,
   "metadata": {},
   "outputs": [
    {
     "name": "stdout",
     "output_type": "stream",
     "text": [
      "10.00\n",
      "20.00\n",
      "30.00\n",
      "40.00\n",
      "50.00\n"
     ]
    }
   ],
   "source": [
    "with open(\"sales.txt\", \"r\") as sales_file:\n",
    "    line = sales_file.readline()\n",
    "    while line != \"\":\n",
    "        amount = float(line)\n",
    "        print(format(amount, \".2f\"))\n",
    "        line = sales_file.readline()"
   ]
  },
  {
   "cell_type": "code",
   "execution_count": 26,
   "metadata": {},
   "outputs": [
    {
     "name": "stdout",
     "output_type": "stream",
     "text": [
      "Name: Ingrid Virgo\n",
      "ID: 4587\n",
      "Dept: Engineering\n",
      "\n",
      "Name: Julia Rich\n",
      "ID: 4588\n",
      "Dept: Research\n",
      "\n",
      "Name: Greg Young\n",
      "ID: 4589\n",
      "Dept: Marketing\n",
      "\n"
     ]
    }
   ],
   "source": [
    "# Exercise 1\n",
    "with open(\"employees.txt\", \"r\") as file:\n",
    "    lines = file.readlines()\n",
    "    for i in range(0, len(lines), 3):\n",
    "        print(\"Name:\", lines[i].strip())\n",
    "        print(\"ID:\", lines[i+1].strip())\n",
    "        print(\"Dept:\", lines[i+2].strip())\n",
    "        print()"
   ]
  },
  {
   "cell_type": "code",
   "execution_count": 27,
   "metadata": {},
   "outputs": [],
   "source": [
    "import struct\n",
    "\n",
    "record = (1, \"John Doe\", 20, 3.75)\n",
    "with open(\"records.bin\", \"wb\") as file:\n",
    "    data = struct.pack(\n",
    "        \"i20sif\", record[0], record[1].encode(), record[2], record[3])\n",
    "        # string has to be encoded to bytes\n",
    "    file.write(data)"
   ]
  },
  {
   "cell_type": "code",
   "execution_count": 29,
   "metadata": {},
   "outputs": [
    {
     "name": "stdout",
     "output_type": "stream",
     "text": [
      "3 records have been written to records.bin\n"
     ]
    }
   ],
   "source": [
    "import struct\n",
    "\n",
    "num_records = int(input(\"How many records do you want to create? \"))\n",
    "with open(\"records.bin\", \"wb\") as file:\n",
    "    for _ in range(num_records):\n",
    "        id_num = int(input(\"Enter ID: \"))\n",
    "        name = input(\"Enter Name: \")\n",
    "        age = int(input(\"Enter Age: \"))\n",
    "        gpa = float(input(\"Enter GPA: \"))\n",
    "        data = struct.pack(\"i20sif\", id_num, name.encode(), age, gpa)\n",
    "        file.write(data)\n",
    "print(f\"{num_records} records have been written to records.bin\")"
   ]
  },
  {
   "cell_type": "code",
   "execution_count": 33,
   "metadata": {},
   "outputs": [
    {
     "name": "stdout",
     "output_type": "stream",
     "text": [
      "ID: 45678, Name: Aasdqw Wasdwe, Age: 20, GPA: 3.16\n"
     ]
    }
   ],
   "source": [
    "import struct\n",
    "with open(\"records.bin\", \"rb\") as file:\n",
    "    data = file.read(struct.calcsize(\"i20sif\"))\n",
    "    record = struct.unpack(\"i20sif\", data)\n",
    "    record = (record[0], record[1].decode().strip(\"\\x00\"), record[2], record[3])\n",
    "    print(f\"ID: {record[0]}, Name: {record[1]}, Age: {record[2]}, GPA: {record[3]:.2f}\")"
   ]
  },
  {
   "cell_type": "code",
   "execution_count": 32,
   "metadata": {},
   "outputs": [
    {
     "name": "stdout",
     "output_type": "stream",
     "text": [
      "ID: 45678, Name: Aasdqw Wasdwe, Age: 20, GPA: 3.16\n",
      "ID: 51467, Name: Lasdqw Pawea, Age: 40, GPA: 2.63\n",
      "ID: 54679, Name: Pqweq Nasdqw, Age: 30, GPA: 4.00\n"
     ]
    }
   ],
   "source": [
    "import struct\n",
    "with open(\"records.bin\", \"rb\") as file:\n",
    "    record_size = struct.calcsize(\"i20sif\")\n",
    "    while True:\n",
    "        data = file.read(record_size)\n",
    "        if not data:\n",
    "            break\n",
    "        record = struct.unpack(\"i20sif\", data)\n",
    "        record = (record[0], record[1].decode().strip(\"\\x00\"), record[2], record[3])\n",
    "        print(f\"ID: {record[0]}, Name: {record[1]}, Age: {record[2]}, GPA: {record[3]:.2f}\")"
   ]
  },
  {
   "cell_type": "code",
   "execution_count": 34,
   "metadata": {},
   "outputs": [
    {
     "name": "stdout",
     "output_type": "stream",
     "text": [
      "ID: 54679, Name: Pqweq Nasdqw, Age: 30, GPA: 4.0\n"
     ]
    }
   ],
   "source": [
    "import struct\n",
    "\n",
    "record_format = 'i20sif'\n",
    "record_size = struct.calcsize(record_format)\n",
    "\n",
    "with open(\"records.bin\", \"rb\") as file:\n",
    "    file.seek(record_size*2)\n",
    "    data = file.read(record_size)\n",
    "    record = struct.unpack(record_format, data)\n",
    "    record = (record[0], record[1].decode().strip(\"\\x00\"), record[2], record[3])\n",
    "    print(f\"ID: {record[0]}, Name: {record[1]}, Age: {record[2]}, GPA: {record[3]}\")"
   ]
  }
 ],
 "metadata": {
  "kernelspec": {
   "display_name": "python312",
   "language": "python",
   "name": "python3"
  },
  "language_info": {
   "codemirror_mode": {
    "name": "ipython",
    "version": 3
   },
   "file_extension": ".py",
   "mimetype": "text/x-python",
   "name": "python",
   "nbconvert_exporter": "python",
   "pygments_lexer": "ipython3",
   "version": "3.12.4"
  }
 },
 "nbformat": 4,
 "nbformat_minor": 2
}
