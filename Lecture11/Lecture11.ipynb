{
 "cells": [
  {
   "cell_type": "code",
   "execution_count": 25,
   "metadata": {},
   "outputs": [
    {
     "name": "stdout",
     "output_type": "stream",
     "text": [
      "Toyota\n",
      "Corolla\n",
      "2020\n",
      "The engine of the 2020 Toyota Corolla is now running.\n",
      "The engine of the 2020 Toyota Corolla is now off.\n"
     ]
    }
   ],
   "source": [
    "class Car:\n",
    "    wheels = 4\n",
    "\n",
    "    def __init__(self, make, model, year):\n",
    "        self.make = make\n",
    "        self.model = model\n",
    "        self.year = year\n",
    "\n",
    "    def start_engine(self):\n",
    "        return f\"The engine of the {self.year} {self.make} {self.model} is now running.\"\n",
    "\n",
    "    def stop_engine(self):\n",
    "        return f\"The engine of the {self.year} {self.make} {self.model} is now off.\"\n",
    "\n",
    "\n",
    "my_car = Car(\"Toyota\", \"Corolla\", 2020)\n",
    "print(my_car.make)\n",
    "print(my_car.model)\n",
    "print(my_car.year)\n",
    "\n",
    "print(my_car.start_engine())\n",
    "print(my_car.stop_engine())"
   ]
  },
  {
   "cell_type": "code",
   "execution_count": 27,
   "metadata": {},
   "outputs": [
    {
     "name": "stdout",
     "output_type": "stream",
     "text": [
      "1984 has been checked out.\n",
      "1984 has been returned.\n",
      "To Kill a Mockingbird has been checked out.\n",
      "To Kill a Mockingbird is already checked out.\n"
     ]
    }
   ],
   "source": [
    "class Book:\n",
    "    def __init__(self, title, author, isbn):\n",
    "        self.title = title\n",
    "        self.author = author\n",
    "        self.isbn = isbn\n",
    "        self.is_checked_out = False # be rented out\n",
    "\n",
    "    def check_out(self):\n",
    "        if not self.is_checked_out:\n",
    "            self.is_checked_out = True\n",
    "            return f\"{self.title} has been checked out.\"\n",
    "        else:\n",
    "            return f\"{self.title} is already checked out.\"\n",
    "    \n",
    "    def return_book(self):\n",
    "        if self.is_checked_out:\n",
    "            self.is_checked_out = False\n",
    "            return f\"{self.title} has been returned.\"\n",
    "        else:\n",
    "            return f\"{self.title} was not checked out.\"\n",
    "\n",
    "book1 = Book(\"1984\", \"George Orwell\", \"1234567890\")\n",
    "book2 = Book(\"To Kill a Mockingbird\", \"Harper Lee\", \"0987654321\")\n",
    "\n",
    "print(book1.check_out())\n",
    "print(book1.return_book())\n",
    "print(book2.check_out())"
   ]
  },
  {
   "cell_type": "code",
   "execution_count": 6,
   "metadata": {},
   "outputs": [
    {
     "name": "stdout",
     "output_type": "stream",
     "text": [
      "Philo is 5 and Mikey is 6.\n",
      "Philo is a mammal!\n"
     ]
    }
   ],
   "source": [
    "class Dog:\n",
    "    species = \"mammal\"\n",
    "\n",
    "    def __init__(self, name, age):\n",
    "        self.name = name\n",
    "        self.age = age\n",
    "\n",
    "dog1 = Dog(\"Philo\", 5)\n",
    "dog2 = Dog(\"Mikey\", 6)\n",
    "\n",
    "print(\"{} is {} and {} is {}.\".format(dog1.name, dog1.age, dog2.name, dog2.age))\n",
    "\n",
    "if dog1.species == \"mammal\":\n",
    "    print(\"{} is a {}!\".format(dog1.name, dog1.species))"
   ]
  },
  {
   "cell_type": "code",
   "execution_count": 13,
   "metadata": {},
   "outputs": [
    {
     "name": "stdout",
     "output_type": "stream",
     "text": [
      "Mikey is 6 years old.\n",
      "Mikey says Gruff gruff!\n"
     ]
    }
   ],
   "source": [
    "class Dog:\n",
    "    species = \"mammal\"\n",
    "\n",
    "    def __init__(self, name, age):\n",
    "        self.name = name\n",
    "        self.age = age\n",
    "\n",
    "    def description(self):\n",
    "        return \"{} is {} years old.\".format(self.name, self.age)\n",
    "\n",
    "    def speak(self, sound):\n",
    "        return \"{} says {}\".format(self.name, sound)\n",
    "\n",
    "mikey = Dog(\"Mikey\", 6)\n",
    "\n",
    "print(mikey.description())\n",
    "print(mikey.speak(\"Gruff gruff!\"))"
   ]
  },
  {
   "cell_type": "code",
   "execution_count": 43,
   "metadata": {},
   "outputs": [
    {
     "name": "stdout",
     "output_type": "stream",
     "text": [
      "Rectangle Area = 20\n",
      "Triangle Area = 10.0\n",
      "Circle Area = 78.5\n",
      "Test Triangle Area = 10.0\n"
     ]
    }
   ],
   "source": [
    "class Calculate_area:\n",
    "    # Instance Method\n",
    "    def rectangle_area(self, w, h):\n",
    "        return w * h\n",
    "    \n",
    "    @classmethod\n",
    "    def triangle_area(cls, b, h):\n",
    "        return 0.5 * b * h\n",
    "    \n",
    "    @staticmethod\n",
    "    def circle_area(r):\n",
    "        return 3.14 * r * r\n",
    "\n",
    "cal = Calculate_area()\n",
    "cal_rec = cal.rectangle_area(4, 5)\n",
    "cal_tri = cal.triangle_area(4, 5)\n",
    "cal_circle = cal.circle_area(5)\n",
    "\n",
    "print('Rectangle Area =', cal_rec)\n",
    "print('Triangle Area =', cal_tri)\n",
    "print('Circle Area =', cal_circle)\n",
    "\n",
    "# print('Test Triangle Area =', Calculate_area.triangle_area(4, 5))\n",
    "# print('Test Circle Area =', Calculate_area.circle_area(5))\n",
    "# print('Test Rectangle Area =', Calculate_area.rectangle_area(5, 6)) # Error because it is an instance method"
   ]
  },
  {
   "cell_type": "code",
   "execution_count": 44,
   "metadata": {},
   "outputs": [
    {
     "name": "stdout",
     "output_type": "stream",
     "text": [
      "Jantra 80\n",
      "Name:Jantra, Total of Scores:80\n"
     ]
    }
   ],
   "source": [
    "class StudentTest:\n",
    "    def __init__(self, name, score1, score2, score3):\n",
    "        self.name = name\n",
    "        self.score1 = score1\n",
    "        self.score2 = score2\n",
    "        self.score3 = score3\n",
    "\n",
    "    def sumScores(self):\n",
    "        return self.score1 + self.score2 + self.score3\n",
    "\n",
    "    def __str__(self):\n",
    "        return \"Name:{}, Total of Scores:{}\".format(self.name, self.sumScores())\n",
    "\n",
    "std1 = StudentTest(\"Jantra\", 20, 35, 25)\n",
    "print(std1.name, std1.sumScores())\n",
    "print(std1)"
   ]
  },
  {
   "cell_type": "code",
   "execution_count": 47,
   "metadata": {},
   "outputs": [
    {
     "name": "stdout",
     "output_type": "stream",
     "text": [
      "Buddy says Woof!\n",
      "Whiskers says Meow!\n"
     ]
    }
   ],
   "source": [
    "class Animal:\n",
    "    def __init__(self, name):\n",
    "        self.name = name\n",
    "\n",
    "    def speak(self):\n",
    "        return \"Some sound\"\n",
    "\n",
    "class Dog(Animal):\n",
    "    def speak(self):\n",
    "        return f\"{self.name} says Woof!\"\n",
    "\n",
    "class Cat(Animal):\n",
    "    def speak(self):\n",
    "        return f\"{self.name} says Meow!\"\n",
    "\n",
    "dog = Dog(\"Buddy\")\n",
    "cat = Cat(\"Whiskers\")\n",
    "\n",
    "print(dog.speak())\n",
    "print(cat.speak())"
   ]
  },
  {
   "cell_type": "code",
   "execution_count": 48,
   "metadata": {},
   "outputs": [
    {
     "name": "stdout",
     "output_type": "stream",
     "text": [
      "mammal\n",
      "Dog Age is 15\n",
      "reptile\n",
      "Dog Age is 20\n"
     ]
    }
   ],
   "source": [
    "class Dog:\n",
    "    species = \"mammal\"\n",
    "\n",
    "    def calAge(self, age):\n",
    "        print('Dog Age is {}'.format(age*3))\n",
    "\n",
    "class SomeBreed(Dog):\n",
    "    pass\n",
    "\n",
    "class SomeOtherBreed(Dog):\n",
    "    species = \"reptile\"\n",
    "    def calAge(self, age):\n",
    "        print('Dog Age is {}'.format(age*4))\n",
    "\n",
    "frank = SomeBreed()\n",
    "print(frank.species)\n",
    "frank.calAge(5)\n",
    "\n",
    "beans = SomeOtherBreed()\n",
    "print(beans.species)\n",
    "beans.calAge(5)"
   ]
  },
  {
   "cell_type": "code",
   "execution_count": 1,
   "metadata": {},
   "outputs": [
    {
     "name": "stdout",
     "output_type": "stream",
     "text": [
      "Woof!\n",
      "Meow!\n"
     ]
    }
   ],
   "source": [
    "class Animal:\n",
    "    def speak(self):\n",
    "        raise NotImplementedError(\"Subclass must implement abstract method\")\n",
    "\n",
    "class Dog(Animal):\n",
    "    def speak(self):\n",
    "        return \"Woof!\"\n",
    "\n",
    "class Cat(Animal):\n",
    "    def speak(self):\n",
    "        return \"Meow!\"\n",
    "\n",
    "def make_animal_speak(animal):\n",
    "    print(animal.speak())\n",
    "\n",
    "dog = Dog()\n",
    "cat = Cat()\n",
    "\n",
    "make_animal_speak(dog)\n",
    "make_animal_speak(cat)"
   ]
  },
  {
   "cell_type": "code",
   "execution_count": 3,
   "metadata": {},
   "outputs": [
    {
     "name": "stdout",
     "output_type": "stream",
     "text": [
      "Area: 200\n",
      "Area: 78.53981633974483\n"
     ]
    }
   ],
   "source": [
    "class Shape:\n",
    "    def area(self):\n",
    "        raise NotImplementedError(\"Subclass must implement abstract method\")\n",
    "\n",
    "class Rectangle(Shape):\n",
    "    def __init__(self, width, height):\n",
    "        self.width = width\n",
    "        self.height = height\n",
    "\n",
    "    def area(self):\n",
    "        return self.width * self.height\n",
    "\n",
    "class Circle(Shape):\n",
    "    def __init__(self, radius):\n",
    "        self.radius = radius\n",
    "\n",
    "    def area(self):\n",
    "        from math import pi\n",
    "        return pi * (self.radius ** 2)\n",
    "\n",
    "shapes = [Rectangle(10, 20), Circle(5)]\n",
    "\n",
    "for shape in shapes:\n",
    "    print(f\"Area: {shape.area()}\")"
   ]
  },
  {
   "cell_type": "code",
   "execution_count": 6,
   "metadata": {},
   "outputs": [
    {
     "name": "stdout",
     "output_type": "stream",
     "text": [
      "Peter\n",
      "45\n"
     ]
    },
    {
     "ename": "AttributeError",
     "evalue": "'employee' object has no attribute '__salary'",
     "output_type": "error",
     "traceback": [
      "\u001b[1;31m---------------------------------------------------------------------------\u001b[0m",
      "\u001b[1;31mAttributeError\u001b[0m                            Traceback (most recent call last)",
      "Cell \u001b[1;32mIn[6], line 10\u001b[0m\n\u001b[0;32m      8\u001b[0m \u001b[38;5;28mprint\u001b[39m(object1\u001b[38;5;241m.\u001b[39mname)\n\u001b[0;32m      9\u001b[0m \u001b[38;5;28mprint\u001b[39m(object1\u001b[38;5;241m.\u001b[39m_age)\n\u001b[1;32m---> 10\u001b[0m \u001b[38;5;28mprint\u001b[39m(\u001b[43mobject1\u001b[49m\u001b[38;5;241;43m.\u001b[39;49m\u001b[43m__salary\u001b[49m)\n",
      "\u001b[1;31mAttributeError\u001b[0m: 'employee' object has no attribute '__salary'"
     ]
    }
   ],
   "source": [
    "class employee(object):\n",
    "    def __init__(self):\n",
    "        self.name = \"Peter\"\n",
    "        self._age = 45\n",
    "        self.__salary = 35000\n",
    "\n",
    "object1 = employee()\n",
    "print(object1.name)\n",
    "print(object1._age)\n",
    "print(object1.__salary)"
   ]
  },
  {
   "cell_type": "code",
   "execution_count": 7,
   "metadata": {},
   "outputs": [
    {
     "name": "stdout",
     "output_type": "stream",
     "text": [
      "earning is:30000\n",
      "earning is:30000\n",
      "earning is:15000\n"
     ]
    }
   ],
   "source": [
    "class employee(object):\n",
    "    def __init__(self):\n",
    "        self.__maxearn = 30000\n",
    "\n",
    "    def earn(self):\n",
    "        print(\"earning is:{}\".format(self.__maxearn))\n",
    "    \n",
    "    def setmaxearn(self, earn):\n",
    "        self.__maxearn = earn\n",
    "\n",
    "em1 = employee()\n",
    "em1.earn()\n",
    "\n",
    "em1.__maxearn = 10000\n",
    "em1.earn()\n",
    "\n",
    "em1.setmaxearn(15000)\n",
    "em1.earn()"
   ]
  },
  {
   "cell_type": "code",
   "execution_count": 8,
   "metadata": {},
   "outputs": [
    {
     "name": "stdout",
     "output_type": "stream",
     "text": [
      "emp_id is 12345\n"
     ]
    }
   ],
   "source": [
    "from abc import ABC, abstractmethod\n",
    "\n",
    "class employee(ABC):\n",
    "    def emp_id(self, id, name, age, salary):\n",
    "        pass\n",
    "\n",
    "class childemployee(employee):\n",
    "    def emp_id(self, id):\n",
    "        print(\"emp_id is 12345\")\n",
    "\n",
    "emp1 = childemployee()\n",
    "emp1.emp_id(id)"
   ]
  },
  {
   "cell_type": "code",
   "execution_count": 9,
   "metadata": {},
   "outputs": [
    {
     "name": "stdout",
     "output_type": "stream",
     "text": [
      "We are inside test_class task\n",
      "Passed value:  100\n",
      "We are inside example_class task\n",
      "Passed value:  200\n",
      "test_obj is instance of Absclass?  True\n",
      "example_obj is instance of Absclass?  True\n"
     ]
    }
   ],
   "source": [
    "from abc import ABC, abstractmethod\n",
    "class Absclass(ABC):\n",
    "    def print(self, x):\n",
    "        print(\"Passed value: \", x)\n",
    "    @abstractmethod\n",
    "    def task(self):\n",
    "        print(\"We are inside Absclass task\")\n",
    "\n",
    "class test_class(Absclass):\n",
    "    def task(self):\n",
    "        print(\"We are inside test_class task\")\n",
    "\n",
    "class example_class(Absclass):\n",
    "    def task(self):\n",
    "        print(\"We are inside example_class task\")\n",
    "\n",
    "test_obj = test_class()\n",
    "test_obj.task()\n",
    "test_obj.print(100)\n",
    "\n",
    "example_obj = example_class()\n",
    "example_obj.task()\n",
    "example_obj.print(200)\n",
    "\n",
    "print('test_obj is instance of Absclass? ', isinstance(test_obj, Absclass))\n",
    "print('example_obj is instance of Absclass? ', isinstance(example_obj, Absclass))"
   ]
  }
 ],
 "metadata": {
  "kernelspec": {
   "display_name": "basicPython",
   "language": "python",
   "name": "python3"
  },
  "language_info": {
   "codemirror_mode": {
    "name": "ipython",
    "version": 3
   },
   "file_extension": ".py",
   "mimetype": "text/x-python",
   "name": "python",
   "nbconvert_exporter": "python",
   "pygments_lexer": "ipython3",
   "version": "3.12.5"
  }
 },
 "nbformat": 4,
 "nbformat_minor": 2
}
